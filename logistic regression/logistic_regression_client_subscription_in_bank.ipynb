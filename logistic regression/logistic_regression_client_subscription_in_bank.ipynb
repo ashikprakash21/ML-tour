{
  "nbformat": 4,
  "nbformat_minor": 0,
  "metadata": {
    "colab": {
      "provenance": [],
      "collapsed_sections": []
    },
    "kernelspec": {
      "name": "python3",
      "display_name": "Python 3"
    },
    "language_info": {
      "name": "python"
    }
  },
  "cells": [
    {
      "cell_type": "markdown",
      "source": [
        "The classification goal is to predict whether the client will subscribe (1/0) to a term deposit (variable y). "
      ],
      "metadata": {
        "id": "jnpRYT1jU5eA"
      }
    },
    {
      "cell_type": "code",
      "execution_count": 1,
      "metadata": {
        "id": "rkp9tAaNUU04"
      },
      "outputs": [],
      "source": [
        "import pandas as pd\n",
        "import numpy as np"
      ]
    },
    {
      "cell_type": "code",
      "source": [
        "data = pd.read_csv(\"/content/banking.csv\", header=0)\n",
        "data = data.dropna()\n",
        "print(data.shape)"
      ],
      "metadata": {
        "colab": {
          "base_uri": "https://localhost:8080/"
        },
        "id": "qhHnPw0HVZp6",
        "outputId": "ace0a321-b01a-4cd1-aa9d-48daf92d5945"
      },
      "execution_count": 2,
      "outputs": [
        {
          "output_type": "stream",
          "name": "stdout",
          "text": [
            "(41188, 21)\n"
          ]
        }
      ]
    },
    {
      "cell_type": "code",
      "source": [
        "data.columns"
      ],
      "metadata": {
        "colab": {
          "base_uri": "https://localhost:8080/"
        },
        "id": "6K_bO4xNYs-L",
        "outputId": "19e09b23-5ab5-4893-a8de-be2509e0729b"
      },
      "execution_count": 3,
      "outputs": [
        {
          "output_type": "execute_result",
          "data": {
            "text/plain": [
              "Index(['age', 'job', 'marital', 'education', 'default', 'housing', 'loan',\n",
              "       'contact', 'month', 'day_of_week', 'duration', 'campaign', 'pdays',\n",
              "       'previous', 'poutcome', 'emp_var_rate', 'cons_price_idx',\n",
              "       'cons_conf_idx', 'euribor3m', 'nr_employed', 'y'],\n",
              "      dtype='object')"
            ]
          },
          "metadata": {},
          "execution_count": 3
        }
      ]
    },
    {
      "cell_type": "code",
      "source": [
        "data.head()"
      ],
      "metadata": {
        "colab": {
          "base_uri": "https://localhost:8080/",
          "height": 300
        },
        "id": "4MVcP67xYwHe",
        "outputId": "aaa1c177-ef82-461f-9b91-9a762cb7b3e3"
      },
      "execution_count": 4,
      "outputs": [
        {
          "output_type": "execute_result",
          "data": {
            "text/plain": [
              "   age          job  marital          education  default housing loan  \\\n",
              "0   44  blue-collar  married           basic.4y  unknown     yes   no   \n",
              "1   53   technician  married            unknown       no      no   no   \n",
              "2   28   management   single  university.degree       no     yes   no   \n",
              "3   39     services  married        high.school       no      no   no   \n",
              "4   55      retired  married           basic.4y       no     yes   no   \n",
              "\n",
              "    contact month day_of_week  ...  campaign  pdays  previous     poutcome  \\\n",
              "0  cellular   aug         thu  ...         1    999         0  nonexistent   \n",
              "1  cellular   nov         fri  ...         1    999         0  nonexistent   \n",
              "2  cellular   jun         thu  ...         3      6         2      success   \n",
              "3  cellular   apr         fri  ...         2    999         0  nonexistent   \n",
              "4  cellular   aug         fri  ...         1      3         1      success   \n",
              "\n",
              "  emp_var_rate  cons_price_idx  cons_conf_idx  euribor3m  nr_employed  y  \n",
              "0          1.4          93.444          -36.1      4.963       5228.1  0  \n",
              "1         -0.1          93.200          -42.0      4.021       5195.8  0  \n",
              "2         -1.7          94.055          -39.8      0.729       4991.6  1  \n",
              "3         -1.8          93.075          -47.1      1.405       5099.1  0  \n",
              "4         -2.9          92.201          -31.4      0.869       5076.2  1  \n",
              "\n",
              "[5 rows x 21 columns]"
            ],
            "text/html": [
              "\n",
              "  <div id=\"df-9eae8db3-74f7-4cbb-97ee-017050387055\">\n",
              "    <div class=\"colab-df-container\">\n",
              "      <div>\n",
              "<style scoped>\n",
              "    .dataframe tbody tr th:only-of-type {\n",
              "        vertical-align: middle;\n",
              "    }\n",
              "\n",
              "    .dataframe tbody tr th {\n",
              "        vertical-align: top;\n",
              "    }\n",
              "\n",
              "    .dataframe thead th {\n",
              "        text-align: right;\n",
              "    }\n",
              "</style>\n",
              "<table border=\"1\" class=\"dataframe\">\n",
              "  <thead>\n",
              "    <tr style=\"text-align: right;\">\n",
              "      <th></th>\n",
              "      <th>age</th>\n",
              "      <th>job</th>\n",
              "      <th>marital</th>\n",
              "      <th>education</th>\n",
              "      <th>default</th>\n",
              "      <th>housing</th>\n",
              "      <th>loan</th>\n",
              "      <th>contact</th>\n",
              "      <th>month</th>\n",
              "      <th>day_of_week</th>\n",
              "      <th>...</th>\n",
              "      <th>campaign</th>\n",
              "      <th>pdays</th>\n",
              "      <th>previous</th>\n",
              "      <th>poutcome</th>\n",
              "      <th>emp_var_rate</th>\n",
              "      <th>cons_price_idx</th>\n",
              "      <th>cons_conf_idx</th>\n",
              "      <th>euribor3m</th>\n",
              "      <th>nr_employed</th>\n",
              "      <th>y</th>\n",
              "    </tr>\n",
              "  </thead>\n",
              "  <tbody>\n",
              "    <tr>\n",
              "      <th>0</th>\n",
              "      <td>44</td>\n",
              "      <td>blue-collar</td>\n",
              "      <td>married</td>\n",
              "      <td>basic.4y</td>\n",
              "      <td>unknown</td>\n",
              "      <td>yes</td>\n",
              "      <td>no</td>\n",
              "      <td>cellular</td>\n",
              "      <td>aug</td>\n",
              "      <td>thu</td>\n",
              "      <td>...</td>\n",
              "      <td>1</td>\n",
              "      <td>999</td>\n",
              "      <td>0</td>\n",
              "      <td>nonexistent</td>\n",
              "      <td>1.4</td>\n",
              "      <td>93.444</td>\n",
              "      <td>-36.1</td>\n",
              "      <td>4.963</td>\n",
              "      <td>5228.1</td>\n",
              "      <td>0</td>\n",
              "    </tr>\n",
              "    <tr>\n",
              "      <th>1</th>\n",
              "      <td>53</td>\n",
              "      <td>technician</td>\n",
              "      <td>married</td>\n",
              "      <td>unknown</td>\n",
              "      <td>no</td>\n",
              "      <td>no</td>\n",
              "      <td>no</td>\n",
              "      <td>cellular</td>\n",
              "      <td>nov</td>\n",
              "      <td>fri</td>\n",
              "      <td>...</td>\n",
              "      <td>1</td>\n",
              "      <td>999</td>\n",
              "      <td>0</td>\n",
              "      <td>nonexistent</td>\n",
              "      <td>-0.1</td>\n",
              "      <td>93.200</td>\n",
              "      <td>-42.0</td>\n",
              "      <td>4.021</td>\n",
              "      <td>5195.8</td>\n",
              "      <td>0</td>\n",
              "    </tr>\n",
              "    <tr>\n",
              "      <th>2</th>\n",
              "      <td>28</td>\n",
              "      <td>management</td>\n",
              "      <td>single</td>\n",
              "      <td>university.degree</td>\n",
              "      <td>no</td>\n",
              "      <td>yes</td>\n",
              "      <td>no</td>\n",
              "      <td>cellular</td>\n",
              "      <td>jun</td>\n",
              "      <td>thu</td>\n",
              "      <td>...</td>\n",
              "      <td>3</td>\n",
              "      <td>6</td>\n",
              "      <td>2</td>\n",
              "      <td>success</td>\n",
              "      <td>-1.7</td>\n",
              "      <td>94.055</td>\n",
              "      <td>-39.8</td>\n",
              "      <td>0.729</td>\n",
              "      <td>4991.6</td>\n",
              "      <td>1</td>\n",
              "    </tr>\n",
              "    <tr>\n",
              "      <th>3</th>\n",
              "      <td>39</td>\n",
              "      <td>services</td>\n",
              "      <td>married</td>\n",
              "      <td>high.school</td>\n",
              "      <td>no</td>\n",
              "      <td>no</td>\n",
              "      <td>no</td>\n",
              "      <td>cellular</td>\n",
              "      <td>apr</td>\n",
              "      <td>fri</td>\n",
              "      <td>...</td>\n",
              "      <td>2</td>\n",
              "      <td>999</td>\n",
              "      <td>0</td>\n",
              "      <td>nonexistent</td>\n",
              "      <td>-1.8</td>\n",
              "      <td>93.075</td>\n",
              "      <td>-47.1</td>\n",
              "      <td>1.405</td>\n",
              "      <td>5099.1</td>\n",
              "      <td>0</td>\n",
              "    </tr>\n",
              "    <tr>\n",
              "      <th>4</th>\n",
              "      <td>55</td>\n",
              "      <td>retired</td>\n",
              "      <td>married</td>\n",
              "      <td>basic.4y</td>\n",
              "      <td>no</td>\n",
              "      <td>yes</td>\n",
              "      <td>no</td>\n",
              "      <td>cellular</td>\n",
              "      <td>aug</td>\n",
              "      <td>fri</td>\n",
              "      <td>...</td>\n",
              "      <td>1</td>\n",
              "      <td>3</td>\n",
              "      <td>1</td>\n",
              "      <td>success</td>\n",
              "      <td>-2.9</td>\n",
              "      <td>92.201</td>\n",
              "      <td>-31.4</td>\n",
              "      <td>0.869</td>\n",
              "      <td>5076.2</td>\n",
              "      <td>1</td>\n",
              "    </tr>\n",
              "  </tbody>\n",
              "</table>\n",
              "<p>5 rows × 21 columns</p>\n",
              "</div>\n",
              "      <button class=\"colab-df-convert\" onclick=\"convertToInteractive('df-9eae8db3-74f7-4cbb-97ee-017050387055')\"\n",
              "              title=\"Convert this dataframe to an interactive table.\"\n",
              "              style=\"display:none;\">\n",
              "        \n",
              "  <svg xmlns=\"http://www.w3.org/2000/svg\" height=\"24px\"viewBox=\"0 0 24 24\"\n",
              "       width=\"24px\">\n",
              "    <path d=\"M0 0h24v24H0V0z\" fill=\"none\"/>\n",
              "    <path d=\"M18.56 5.44l.94 2.06.94-2.06 2.06-.94-2.06-.94-.94-2.06-.94 2.06-2.06.94zm-11 1L8.5 8.5l.94-2.06 2.06-.94-2.06-.94L8.5 2.5l-.94 2.06-2.06.94zm10 10l.94 2.06.94-2.06 2.06-.94-2.06-.94-.94-2.06-.94 2.06-2.06.94z\"/><path d=\"M17.41 7.96l-1.37-1.37c-.4-.4-.92-.59-1.43-.59-.52 0-1.04.2-1.43.59L10.3 9.45l-7.72 7.72c-.78.78-.78 2.05 0 2.83L4 21.41c.39.39.9.59 1.41.59.51 0 1.02-.2 1.41-.59l7.78-7.78 2.81-2.81c.8-.78.8-2.07 0-2.86zM5.41 20L4 18.59l7.72-7.72 1.47 1.35L5.41 20z\"/>\n",
              "  </svg>\n",
              "      </button>\n",
              "      \n",
              "  <style>\n",
              "    .colab-df-container {\n",
              "      display:flex;\n",
              "      flex-wrap:wrap;\n",
              "      gap: 12px;\n",
              "    }\n",
              "\n",
              "    .colab-df-convert {\n",
              "      background-color: #E8F0FE;\n",
              "      border: none;\n",
              "      border-radius: 50%;\n",
              "      cursor: pointer;\n",
              "      display: none;\n",
              "      fill: #1967D2;\n",
              "      height: 32px;\n",
              "      padding: 0 0 0 0;\n",
              "      width: 32px;\n",
              "    }\n",
              "\n",
              "    .colab-df-convert:hover {\n",
              "      background-color: #E2EBFA;\n",
              "      box-shadow: 0px 1px 2px rgba(60, 64, 67, 0.3), 0px 1px 3px 1px rgba(60, 64, 67, 0.15);\n",
              "      fill: #174EA6;\n",
              "    }\n",
              "\n",
              "    [theme=dark] .colab-df-convert {\n",
              "      background-color: #3B4455;\n",
              "      fill: #D2E3FC;\n",
              "    }\n",
              "\n",
              "    [theme=dark] .colab-df-convert:hover {\n",
              "      background-color: #434B5C;\n",
              "      box-shadow: 0px 1px 3px 1px rgba(0, 0, 0, 0.15);\n",
              "      filter: drop-shadow(0px 1px 2px rgba(0, 0, 0, 0.3));\n",
              "      fill: #FFFFFF;\n",
              "    }\n",
              "  </style>\n",
              "\n",
              "      <script>\n",
              "        const buttonEl =\n",
              "          document.querySelector('#df-9eae8db3-74f7-4cbb-97ee-017050387055 button.colab-df-convert');\n",
              "        buttonEl.style.display =\n",
              "          google.colab.kernel.accessAllowed ? 'block' : 'none';\n",
              "\n",
              "        async function convertToInteractive(key) {\n",
              "          const element = document.querySelector('#df-9eae8db3-74f7-4cbb-97ee-017050387055');\n",
              "          const dataTable =\n",
              "            await google.colab.kernel.invokeFunction('convertToInteractive',\n",
              "                                                     [key], {});\n",
              "          if (!dataTable) return;\n",
              "\n",
              "          const docLinkHtml = 'Like what you see? Visit the ' +\n",
              "            '<a target=\"_blank\" href=https://colab.research.google.com/notebooks/data_table.ipynb>data table notebook</a>'\n",
              "            + ' to learn more about interactive tables.';\n",
              "          element.innerHTML = '';\n",
              "          dataTable['output_type'] = 'display_data';\n",
              "          await google.colab.output.renderOutput(dataTable, element);\n",
              "          const docLink = document.createElement('div');\n",
              "          docLink.innerHTML = docLinkHtml;\n",
              "          element.appendChild(docLink);\n",
              "        }\n",
              "      </script>\n",
              "    </div>\n",
              "  </div>\n",
              "  "
            ]
          },
          "metadata": {},
          "execution_count": 4
        }
      ]
    },
    {
      "cell_type": "markdown",
      "source": [
        "Output y — has the client subscribed a term deposit?\n",
        "(binary: “1”, means “Yes”, “0” means “No”)"
      ],
      "metadata": {
        "id": "ntl_sVc8ZTPK"
      }
    },
    {
      "cell_type": "markdown",
      "source": [
        "The education column of the dataset has many categories and we need to reduce the categories for a better modelling. The education column has the following categories:"
      ],
      "metadata": {
        "id": "U5YH73xDZiVv"
      }
    },
    {
      "cell_type": "code",
      "source": [
        "data['education'].unique()"
      ],
      "metadata": {
        "colab": {
          "base_uri": "https://localhost:8080/"
        },
        "id": "WWE9Qf29Y4C7",
        "outputId": "0efd2ecc-b75a-4350-aab6-c3801cdb9b92"
      },
      "execution_count": 5,
      "outputs": [
        {
          "output_type": "execute_result",
          "data": {
            "text/plain": [
              "array(['basic.4y', 'unknown', 'university.degree', 'high.school',\n",
              "       'basic.9y', 'professional.course', 'basic.6y', 'illiterate'],\n",
              "      dtype=object)"
            ]
          },
          "metadata": {},
          "execution_count": 5
        }
      ]
    },
    {
      "cell_type": "code",
      "source": [],
      "metadata": {
        "id": "1At27fkmZy6y"
      },
      "execution_count": 5,
      "outputs": []
    },
    {
      "cell_type": "markdown",
      "source": [
        "Let us group “basic.4y”, “basic.9y” and “basic.6y” together and call them “basic”."
      ],
      "metadata": {
        "id": "YAPSatnvZg1w"
      }
    },
    {
      "cell_type": "code",
      "source": [
        "data['education']=np.where(data['education'] =='basic.9y', 'Basic', data['education'])"
      ],
      "metadata": {
        "id": "mTI74W5OZv-S"
      },
      "execution_count": 6,
      "outputs": []
    },
    {
      "cell_type": "code",
      "source": [
        "data['education'].unique()"
      ],
      "metadata": {
        "colab": {
          "base_uri": "https://localhost:8080/"
        },
        "id": "6v00zDXRZ8g8",
        "outputId": "1013d1cc-9d38-4612-d589-98b2524f88ec"
      },
      "execution_count": 7,
      "outputs": [
        {
          "output_type": "execute_result",
          "data": {
            "text/plain": [
              "array(['basic.4y', 'unknown', 'university.degree', 'high.school', 'Basic',\n",
              "       'professional.course', 'basic.6y', 'illiterate'], dtype=object)"
            ]
          },
          "metadata": {},
          "execution_count": 7
        }
      ]
    },
    {
      "cell_type": "code",
      "source": [
        "data['education']=np.where(data['education'] =='basic.4y', 'Basic', data['education'])\n",
        "data['education']=np.where(data['education'] =='basic.6y', 'Basic', data['education'])"
      ],
      "metadata": {
        "id": "7bKZ3FyIZ-OU"
      },
      "execution_count": 8,
      "outputs": []
    },
    {
      "cell_type": "code",
      "source": [
        "data['education'].unique()"
      ],
      "metadata": {
        "colab": {
          "base_uri": "https://localhost:8080/"
        },
        "id": "OqKNJvo0aFxV",
        "outputId": "ef3e8321-58c8-4ab8-c7d8-c4bbee7f2b61"
      },
      "execution_count": 9,
      "outputs": [
        {
          "output_type": "execute_result",
          "data": {
            "text/plain": [
              "array(['Basic', 'unknown', 'university.degree', 'high.school',\n",
              "       'professional.course', 'illiterate'], dtype=object)"
            ]
          },
          "metadata": {},
          "execution_count": 9
        }
      ]
    },
    {
      "cell_type": "code",
      "source": [],
      "metadata": {
        "id": "T-FuNHfSaH33"
      },
      "execution_count": 9,
      "outputs": []
    },
    {
      "cell_type": "markdown",
      "source": [
        "**Data exploration**"
      ],
      "metadata": {
        "id": "kl1GvgLombRr"
      }
    },
    {
      "cell_type": "code",
      "source": [
        "data['y'].value_counts()"
      ],
      "metadata": {
        "colab": {
          "base_uri": "https://localhost:8080/"
        },
        "id": "ErO03JDpmepl",
        "outputId": "99a6f2ad-2c91-4683-d0ba-36b04c8881d0"
      },
      "execution_count": 10,
      "outputs": [
        {
          "output_type": "execute_result",
          "data": {
            "text/plain": [
              "0    36548\n",
              "1     4640\n",
              "Name: y, dtype: int64"
            ]
          },
          "metadata": {},
          "execution_count": 10
        }
      ]
    },
    {
      "cell_type": "code",
      "source": [
        "import seaborn as sns\n",
        "import matplotlib.pyplot as plt \n",
        "sns.countplot(x='y', data=data, palette='hls')\n",
        "plt.show()\n",
        "plt.savefig('countplot')"
      ],
      "metadata": {
        "colab": {
          "base_uri": "https://localhost:8080/",
          "height": 296
        },
        "id": "KwbPVQzImpF_",
        "outputId": "4f893d62-c8b0-455c-d2d9-fae90b0cfcc3"
      },
      "execution_count": 11,
      "outputs": [
        {
          "output_type": "display_data",
          "data": {
            "text/plain": [
              "<Figure size 432x288 with 1 Axes>"
            ],
            "image/png": "[encoded data removed]"
          },
          "metadata": {
            "needs_background": "light"
          }
        },
        {
          "output_type": "display_data",
          "data": {
            "text/plain": [
              "<Figure size 432x288 with 0 Axes>"
            ]
          },
          "metadata": {}
        }
      ]
    },
    {
      "cell_type": "code",
      "source": [
        "count_no_sub = len(data[data['y']==0])\n",
        "print(count_no_sub)\n",
        "count_sub = len(data[data['y']==1])\n",
        "print(count_sub)\n"
      ],
      "metadata": {
        "colab": {
          "base_uri": "https://localhost:8080/"
        },
        "id": "1qX1eu2rnEde",
        "outputId": "6eb0a2d9-31c5-4182-f0d3-4aee34519444"
      },
      "execution_count": 12,
      "outputs": [
        {
          "output_type": "stream",
          "name": "stdout",
          "text": [
            "36548\n",
            "4640\n"
          ]
        }
      ]
    },
    {
      "cell_type": "code",
      "source": [
        "pct_of_no_sub = count_no_sub/(count_no_sub+count_sub)\n",
        "print(\"percentage of no subscription is\", pct_of_no_sub*100)\n",
        "pct_of_sub = count_sub/(count_no_sub+count_sub)\n",
        "print(\"percentage of subscription\", pct_of_sub*100)"
      ],
      "metadata": {
        "colab": {
          "base_uri": "https://localhost:8080/"
        },
        "id": "vK3wEmy2p5Z5",
        "outputId": "a45036b4-0668-4bd6-ca7b-949a746956fc"
      },
      "execution_count": 13,
      "outputs": [
        {
          "output_type": "stream",
          "name": "stdout",
          "text": [
            "percentage of no subscription is 88.73458288821988\n",
            "percentage of subscription 11.265417111780131\n"
          ]
        }
      ]
    },
    {
      "cell_type": "code",
      "source": [],
      "metadata": {
        "id": "F_qM_57eqVYc"
      },
      "execution_count": 13,
      "outputs": []
    },
    {
      "cell_type": "markdown",
      "source": [
        "Our classes are imbalanced, and the ratio of no-subscription to subscription instances is 89:11. Before we go ahead to balance the classes, let’s do some more exploration."
      ],
      "metadata": {
        "id": "FZCnKalPqgLi"
      }
    },
    {
      "cell_type": "code",
      "source": [
        "data.groupby('y').mean()"
      ],
      "metadata": {
        "colab": {
          "base_uri": "https://localhost:8080/",
          "height": 207
        },
        "id": "IjaYVc8bqhvB",
        "outputId": "7b684b84-9ba5-4c6d-a446-ee0e3db63de3"
      },
      "execution_count": 14,
      "outputs": [
        {
          "output_type": "execute_result",
          "data": {
            "text/plain": [
              "         age    duration  campaign       pdays  previous  emp_var_rate  \\\n",
              "y                                                                        \n",
              "0  39.911185  220.844807  2.633085  984.113878  0.132374      0.248875   \n",
              "1  40.913147  553.191164  2.051724  792.035560  0.492672     -1.233448   \n",
              "\n",
              "   cons_price_idx  cons_conf_idx  euribor3m  nr_employed  \n",
              "y                                                         \n",
              "0       93.603757     -40.593097   3.811491  5176.166600  \n",
              "1       93.354386     -39.789784   2.123135  5095.115991  "
            ],
            "text/html": [
              "\n",
              "  <div id=\"df-473b80bf-7f15-4a2c-a3a1-c99705788106\">\n",
              "    <div class=\"colab-df-container\">\n",
              "      <div>\n",
              "<style scoped>\n",
              "    .dataframe tbody tr th:only-of-type {\n",
              "        vertical-align: middle;\n",
              "    }\n",
              "\n",
              "    .dataframe tbody tr th {\n",
              "        vertical-align: top;\n",
              "    }\n",
              "\n",
              "    .dataframe thead th {\n",
              "        text-align: right;\n",
              "    }\n",
              "</style>\n",
              "<table border=\"1\" class=\"dataframe\">\n",
              "  <thead>\n",
              "    <tr style=\"text-align: right;\">\n",
              "      <th></th>\n",
              "      <th>age</th>\n",
              "      <th>duration</th>\n",
              "      <th>campaign</th>\n",
              "      <th>pdays</th>\n",
              "      <th>previous</th>\n",
              "      <th>emp_var_rate</th>\n",
              "      <th>cons_price_idx</th>\n",
              "      <th>cons_conf_idx</th>\n",
              "      <th>euribor3m</th>\n",
              "      <th>nr_employed</th>\n",
              "    </tr>\n",
              "    <tr>\n",
              "      <th>y</th>\n",
              "      <th></th>\n",
              "      <th></th>\n",
              "      <th></th>\n",
              "      <th></th>\n",
              "      <th></th>\n",
              "      <th></th>\n",
              "      <th></th>\n",
              "      <th></th>\n",
              "      <th></th>\n",
              "      <th></th>\n",
              "    </tr>\n",
              "  </thead>\n",
              "  <tbody>\n",
              "    <tr>\n",
              "      <th>0</th>\n",
              "      <td>39.911185</td>\n",
              "      <td>220.844807</td>\n",
              "      <td>2.633085</td>\n",
              "      <td>984.113878</td>\n",
              "      <td>0.132374</td>\n",
              "      <td>0.248875</td>\n",
              "      <td>93.603757</td>\n",
              "      <td>-40.593097</td>\n",
              "      <td>3.811491</td>\n",
              "      <td>5176.166600</td>\n",
              "    </tr>\n",
              "    <tr>\n",
              "      <th>1</th>\n",
              "      <td>40.913147</td>\n",
              "      <td>553.191164</td>\n",
              "      <td>2.051724</td>\n",
              "      <td>792.035560</td>\n",
              "      <td>0.492672</td>\n",
              "      <td>-1.233448</td>\n",
              "      <td>93.354386</td>\n",
              "      <td>-39.789784</td>\n",
              "      <td>2.123135</td>\n",
              "      <td>5095.115991</td>\n",
              "    </tr>\n",
              "  </tbody>\n",
              "</table>\n",
              "</div>\n",
              "      <button class=\"colab-df-convert\" onclick=\"convertToInteractive('df-473b80bf-7f15-4a2c-a3a1-c99705788106')\"\n",
              "              title=\"Convert this dataframe to an interactive table.\"\n",
              "              style=\"display:none;\">\n",
              "        \n",
              "  <svg xmlns=\"http://www.w3.org/2000/svg\" height=\"24px\"viewBox=\"0 0 24 24\"\n",
              "       width=\"24px\">\n",
              "    <path d=\"M0 0h24v24H0V0z\" fill=\"none\"/>\n",
              "    <path d=\"M18.56 5.44l.94 2.06.94-2.06 2.06-.94-2.06-.94-.94-2.06-.94 2.06-2.06.94zm-11 1L8.5 8.5l.94-2.06 2.06-.94-2.06-.94L8.5 2.5l-.94 2.06-2.06.94zm10 10l.94 2.06.94-2.06 2.06-.94-2.06-.94-.94-2.06-.94 2.06-2.06.94z\"/><path d=\"M17.41 7.96l-1.37-1.37c-.4-.4-.92-.59-1.43-.59-.52 0-1.04.2-1.43.59L10.3 9.45l-7.72 7.72c-.78.78-.78 2.05 0 2.83L4 21.41c.39.39.9.59 1.41.59.51 0 1.02-.2 1.41-.59l7.78-7.78 2.81-2.81c.8-.78.8-2.07 0-2.86zM5.41 20L4 18.59l7.72-7.72 1.47 1.35L5.41 20z\"/>\n",
              "  </svg>\n",
              "      </button>\n",
              "      \n",
              "  <style>\n",
              "    .colab-df-container {\n",
              "      display:flex;\n",
              "      flex-wrap:wrap;\n",
              "      gap: 12px;\n",
              "    }\n",
              "\n",
              "    .colab-df-convert {\n",
              "      background-color: #E8F0FE;\n",
              "      border: none;\n",
              "      border-radius: 50%;\n",
              "      cursor: pointer;\n",
              "      display: none;\n",
              "      fill: #1967D2;\n",
              "      height: 32px;\n",
              "      padding: 0 0 0 0;\n",
              "      width: 32px;\n",
              "    }\n",
              "\n",
              "    .colab-df-convert:hover {\n",
              "      background-color: #E2EBFA;\n",
              "      box-shadow: 0px 1px 2px rgba(60, 64, 67, 0.3), 0px 1px 3px 1px rgba(60, 64, 67, 0.15);\n",
              "      fill: #174EA6;\n",
              "    }\n",
              "\n",
              "    [theme=dark] .colab-df-convert {\n",
              "      background-color: #3B4455;\n",
              "      fill: #D2E3FC;\n",
              "    }\n",
              "\n",
              "    [theme=dark] .colab-df-convert:hover {\n",
              "      background-color: #434B5C;\n",
              "      box-shadow: 0px 1px 3px 1px rgba(0, 0, 0, 0.15);\n",
              "      filter: drop-shadow(0px 1px 2px rgba(0, 0, 0, 0.3));\n",
              "      fill: #FFFFFF;\n",
              "    }\n",
              "  </style>\n",
              "\n",
              "      <script>\n",
              "        const buttonEl =\n",
              "          document.querySelector('#df-473b80bf-7f15-4a2c-a3a1-c99705788106 button.colab-df-convert');\n",
              "        buttonEl.style.display =\n",
              "          google.colab.kernel.accessAllowed ? 'block' : 'none';\n",
              "\n",
              "        async function convertToInteractive(key) {\n",
              "          const element = document.querySelector('#df-473b80bf-7f15-4a2c-a3a1-c99705788106');\n",
              "          const dataTable =\n",
              "            await google.colab.kernel.invokeFunction('convertToInteractive',\n",
              "                                                     [key], {});\n",
              "          if (!dataTable) return;\n",
              "\n",
              "          const docLinkHtml = 'Like what you see? Visit the ' +\n",
              "            '<a target=\"_blank\" href=https://colab.research.google.com/notebooks/data_table.ipynb>data table notebook</a>'\n",
              "            + ' to learn more about interactive tables.';\n",
              "          element.innerHTML = '';\n",
              "          dataTable['output_type'] = 'display_data';\n",
              "          await google.colab.output.renderOutput(dataTable, element);\n",
              "          const docLink = document.createElement('div');\n",
              "          docLink.innerHTML = docLinkHtml;\n",
              "          element.appendChild(docLink);\n",
              "        }\n",
              "      </script>\n",
              "    </div>\n",
              "  </div>\n",
              "  "
            ]
          },
          "metadata": {},
          "execution_count": 14
        }
      ]
    },
    {
      "cell_type": "code",
      "source": [
        "data.groupby('job').mean()"
      ],
      "metadata": {
        "colab": {
          "base_uri": "https://localhost:8080/",
          "height": 538
        },
        "id": "S-56FyNJqpnV",
        "outputId": "b7c7d91d-2a65-4788-b204-ecf73d77126e"
      },
      "execution_count": 15,
      "outputs": [
        {
          "output_type": "execute_result",
          "data": {
            "text/plain": [
              "                     age    duration  campaign       pdays  previous  \\\n",
              "job                                                                    \n",
              "admin.         38.187296  254.312128  2.623489  954.319229  0.189023   \n",
              "blue-collar    39.555760  264.542360  2.558461  985.160363  0.122542   \n",
              "entrepreneur   41.723214  263.267857  2.535714  981.267170  0.138736   \n",
              "housemaid      45.500000  250.454717  2.639623  960.579245  0.137736   \n",
              "management     42.362859  257.058140  2.476060  962.647059  0.185021   \n",
              "retired        62.027326  273.712209  2.476744  897.936047  0.327326   \n",
              "self-employed  39.949331  264.142153  2.660802  976.621393  0.143561   \n",
              "services       37.926430  258.398085  2.587805  979.974049  0.154951   \n",
              "student        25.894857  283.683429  2.104000  840.217143  0.524571   \n",
              "technician     38.507638  250.232241  2.577339  964.408127  0.153789   \n",
              "unemployed     39.733728  249.451677  2.564103  935.316568  0.199211   \n",
              "unknown        45.563636  239.675758  2.648485  938.727273  0.154545   \n",
              "\n",
              "               emp_var_rate  cons_price_idx  cons_conf_idx  euribor3m  \\\n",
              "job                                                                     \n",
              "admin.             0.015563       93.534054     -40.245433   3.550274   \n",
              "blue-collar        0.248995       93.656656     -41.375816   3.771996   \n",
              "entrepreneur       0.158723       93.605372     -41.283654   3.791120   \n",
              "housemaid          0.433396       93.676576     -39.495283   4.009645   \n",
              "management        -0.012688       93.522755     -40.489466   3.611316   \n",
              "retired           -0.698314       93.430786     -38.573081   2.770066   \n",
              "self-employed      0.094159       93.559982     -40.488107   3.689376   \n",
              "services           0.175359       93.634659     -41.290048   3.699187   \n",
              "student           -1.408000       93.331613     -40.187543   1.884224   \n",
              "technician         0.274566       93.561471     -39.927569   3.820401   \n",
              "unemployed        -0.111736       93.563781     -40.007594   3.466583   \n",
              "unknown            0.357879       93.718942     -38.797879   3.949033   \n",
              "\n",
              "               nr_employed         y  \n",
              "job                                   \n",
              "admin.         5164.125350  0.129726  \n",
              "blue-collar    5175.615150  0.068943  \n",
              "entrepreneur   5176.313530  0.085165  \n",
              "housemaid      5179.529623  0.100000  \n",
              "management     5166.650513  0.112175  \n",
              "retired        5122.262151  0.252326  \n",
              "self-employed  5170.674384  0.104856  \n",
              "services       5171.600126  0.081381  \n",
              "student        5085.939086  0.314286  \n",
              "technician     5175.648391  0.108260  \n",
              "unemployed     5157.156509  0.142012  \n",
              "unknown        5172.931818  0.112121  "
            ],
            "text/html": [
              "\n",
              "  <div id=\"df-32a83400-4735-4ecb-a55a-d870f55c1fa8\">\n",
              "    <div class=\"colab-df-container\">\n",
              "      <div>\n",
              "<style scoped>\n",
              "    .dataframe tbody tr th:only-of-type {\n",
              "        vertical-align: middle;\n",
              "    }\n",
              "\n",
              "    .dataframe tbody tr th {\n",
              "        vertical-align: top;\n",
              "    }\n",
              "\n",
              "    .dataframe thead th {\n",
              "        text-align: right;\n",
              "    }\n",
              "</style>\n",
              "<table border=\"1\" class=\"dataframe\">\n",
              "  <thead>\n",
              "    <tr style=\"text-align: right;\">\n",
              "      <th></th>\n",
              "      <th>age</th>\n",
              "      <th>duration</th>\n",
              "      <th>campaign</th>\n",
              "      <th>pdays</th>\n",
              "      <th>previous</th>\n",
              "      <th>emp_var_rate</th>\n",
              "      <th>cons_price_idx</th>\n",
              "      <th>cons_conf_idx</th>\n",
              "      <th>euribor3m</th>\n",
              "      <th>nr_employed</th>\n",
              "      <th>y</th>\n",
              "    </tr>\n",
              "    <tr>\n",
              "      <th>job</th>\n",
              "      <th></th>\n",
              "      <th></th>\n",
              "      <th></th>\n",
              "      <th></th>\n",
              "      <th></th>\n",
              "      <th></th>\n",
              "      <th></th>\n",
              "      <th></th>\n",
              "      <th></th>\n",
              "      <th></th>\n",
              "      <th></th>\n",
              "    </tr>\n",
              "  </thead>\n",
              "  <tbody>\n",
              "    <tr>\n",
              "      <th>admin.</th>\n",
              "      <td>38.187296</td>\n",
              "      <td>254.312128</td>\n",
              "      <td>2.623489</td>\n",
              "      <td>954.319229</td>\n",
              "      <td>0.189023</td>\n",
              "      <td>0.015563</td>\n",
              "      <td>93.534054</td>\n",
              "      <td>-40.245433</td>\n",
              "      <td>3.550274</td>\n",
              "      <td>5164.125350</td>\n",
              "      <td>0.129726</td>\n",
              "    </tr>\n",
              "    <tr>\n",
              "      <th>blue-collar</th>\n",
              "      <td>39.555760</td>\n",
              "      <td>264.542360</td>\n",
              "      <td>2.558461</td>\n",
              "      <td>985.160363</td>\n",
              "      <td>0.122542</td>\n",
              "      <td>0.248995</td>\n",
              "      <td>93.656656</td>\n",
              "      <td>-41.375816</td>\n",
              "      <td>3.771996</td>\n",
              "      <td>5175.615150</td>\n",
              "      <td>0.068943</td>\n",
              "    </tr>\n",
              "    <tr>\n",
              "      <th>entrepreneur</th>\n",
              "      <td>41.723214</td>\n",
              "      <td>263.267857</td>\n",
              "      <td>2.535714</td>\n",
              "      <td>981.267170</td>\n",
              "      <td>0.138736</td>\n",
              "      <td>0.158723</td>\n",
              "      <td>93.605372</td>\n",
              "      <td>-41.283654</td>\n",
              "      <td>3.791120</td>\n",
              "      <td>5176.313530</td>\n",
              "      <td>0.085165</td>\n",
              "    </tr>\n",
              "    <tr>\n",
              "      <th>housemaid</th>\n",
              "      <td>45.500000</td>\n",
              "      <td>250.454717</td>\n",
              "      <td>2.639623</td>\n",
              "      <td>960.579245</td>\n",
              "      <td>0.137736</td>\n",
              "      <td>0.433396</td>\n",
              "      <td>93.676576</td>\n",
              "      <td>-39.495283</td>\n",
              "      <td>4.009645</td>\n",
              "      <td>5179.529623</td>\n",
              "      <td>0.100000</td>\n",
              "    </tr>\n",
              "    <tr>\n",
              "      <th>management</th>\n",
              "      <td>42.362859</td>\n",
              "      <td>257.058140</td>\n",
              "      <td>2.476060</td>\n",
              "      <td>962.647059</td>\n",
              "      <td>0.185021</td>\n",
              "      <td>-0.012688</td>\n",
              "      <td>93.522755</td>\n",
              "      <td>-40.489466</td>\n",
              "      <td>3.611316</td>\n",
              "      <td>5166.650513</td>\n",
              "      <td>0.112175</td>\n",
              "    </tr>\n",
              "    <tr>\n",
              "      <th>retired</th>\n",
              "      <td>62.027326</td>\n",
              "      <td>273.712209</td>\n",
              "      <td>2.476744</td>\n",
              "      <td>897.936047</td>\n",
              "      <td>0.327326</td>\n",
              "      <td>-0.698314</td>\n",
              "      <td>93.430786</td>\n",
              "      <td>-38.573081</td>\n",
              "      <td>2.770066</td>\n",
              "      <td>5122.262151</td>\n",
              "      <td>0.252326</td>\n",
              "    </tr>\n",
              "    <tr>\n",
              "      <th>self-employed</th>\n",
              "      <td>39.949331</td>\n",
              "      <td>264.142153</td>\n",
              "      <td>2.660802</td>\n",
              "      <td>976.621393</td>\n",
              "      <td>0.143561</td>\n",
              "      <td>0.094159</td>\n",
              "      <td>93.559982</td>\n",
              "      <td>-40.488107</td>\n",
              "      <td>3.689376</td>\n",
              "      <td>5170.674384</td>\n",
              "      <td>0.104856</td>\n",
              "    </tr>\n",
              "    <tr>\n",
              "      <th>services</th>\n",
              "      <td>37.926430</td>\n",
              "      <td>258.398085</td>\n",
              "      <td>2.587805</td>\n",
              "      <td>979.974049</td>\n",
              "      <td>0.154951</td>\n",
              "      <td>0.175359</td>\n",
              "      <td>93.634659</td>\n",
              "      <td>-41.290048</td>\n",
              "      <td>3.699187</td>\n",
              "      <td>5171.600126</td>\n",
              "      <td>0.081381</td>\n",
              "    </tr>\n",
              "    <tr>\n",
              "      <th>student</th>\n",
              "      <td>25.894857</td>\n",
              "      <td>283.683429</td>\n",
              "      <td>2.104000</td>\n",
              "      <td>840.217143</td>\n",
              "      <td>0.524571</td>\n",
              "      <td>-1.408000</td>\n",
              "      <td>93.331613</td>\n",
              "      <td>-40.187543</td>\n",
              "      <td>1.884224</td>\n",
              "      <td>5085.939086</td>\n",
              "      <td>0.314286</td>\n",
              "    </tr>\n",
              "    <tr>\n",
              "      <th>technician</th>\n",
              "      <td>38.507638</td>\n",
              "      <td>250.232241</td>\n",
              "      <td>2.577339</td>\n",
              "      <td>964.408127</td>\n",
              "      <td>0.153789</td>\n",
              "      <td>0.274566</td>\n",
              "      <td>93.561471</td>\n",
              "      <td>-39.927569</td>\n",
              "      <td>3.820401</td>\n",
              "      <td>5175.648391</td>\n",
              "      <td>0.108260</td>\n",
              "    </tr>\n",
              "    <tr>\n",
              "      <th>unemployed</th>\n",
              "      <td>39.733728</td>\n",
              "      <td>249.451677</td>\n",
              "      <td>2.564103</td>\n",
              "      <td>935.316568</td>\n",
              "      <td>0.199211</td>\n",
              "      <td>-0.111736</td>\n",
              "      <td>93.563781</td>\n",
              "      <td>-40.007594</td>\n",
              "      <td>3.466583</td>\n",
              "      <td>5157.156509</td>\n",
              "      <td>0.142012</td>\n",
              "    </tr>\n",
              "    <tr>\n",
              "      <th>unknown</th>\n",
              "      <td>45.563636</td>\n",
              "      <td>239.675758</td>\n",
              "      <td>2.648485</td>\n",
              "      <td>938.727273</td>\n",
              "      <td>0.154545</td>\n",
              "      <td>0.357879</td>\n",
              "      <td>93.718942</td>\n",
              "      <td>-38.797879</td>\n",
              "      <td>3.949033</td>\n",
              "      <td>5172.931818</td>\n",
              "      <td>0.112121</td>\n",
              "    </tr>\n",
              "  </tbody>\n",
              "</table>\n",
              "</div>\n",
              "      <button class=\"colab-df-convert\" onclick=\"convertToInteractive('df-32a83400-4735-4ecb-a55a-d870f55c1fa8')\"\n",
              "              title=\"Convert this dataframe to an interactive table.\"\n",
              "              style=\"display:none;\">\n",
              "        \n",
              "  <svg xmlns=\"http://www.w3.org/2000/svg\" height=\"24px\"viewBox=\"0 0 24 24\"\n",
              "       width=\"24px\">\n",
              "    <path d=\"M0 0h24v24H0V0z\" fill=\"none\"/>\n",
              "    <path d=\"M18.56 5.44l.94 2.06.94-2.06 2.06-.94-2.06-.94-.94-2.06-.94 2.06-2.06.94zm-11 1L8.5 8.5l.94-2.06 2.06-.94-2.06-.94L8.5 2.5l-.94 2.06-2.06.94zm10 10l.94 2.06.94-2.06 2.06-.94-2.06-.94-.94-2.06-.94 2.06-2.06.94z\"/><path d=\"M17.41 7.96l-1.37-1.37c-.4-.4-.92-.59-1.43-.59-.52 0-1.04.2-1.43.59L10.3 9.45l-7.72 7.72c-.78.78-.78 2.05 0 2.83L4 21.41c.39.39.9.59 1.41.59.51 0 1.02-.2 1.41-.59l7.78-7.78 2.81-2.81c.8-.78.8-2.07 0-2.86zM5.41 20L4 18.59l7.72-7.72 1.47 1.35L5.41 20z\"/>\n",
              "  </svg>\n",
              "      </button>\n",
              "      \n",
              "  <style>\n",
              "    .colab-df-container {\n",
              "      display:flex;\n",
              "      flex-wrap:wrap;\n",
              "      gap: 12px;\n",
              "    }\n",
              "\n",
              "    .colab-df-convert {\n",
              "      background-color: #E8F0FE;\n",
              "      border: none;\n",
              "      border-radius: 50%;\n",
              "      cursor: pointer;\n",
              "      display: none;\n",
              "      fill: #1967D2;\n",
              "      height: 32px;\n",
              "      padding: 0 0 0 0;\n",
              "      width: 32px;\n",
              "    }\n",
              "\n",
              "    .colab-df-convert:hover {\n",
              "      background-color: #E2EBFA;\n",
              "      box-shadow: 0px 1px 2px rgba(60, 64, 67, 0.3), 0px 1px 3px 1px rgba(60, 64, 67, 0.15);\n",
              "      fill: #174EA6;\n",
              "    }\n",
              "\n",
              "    [theme=dark] .colab-df-convert {\n",
              "      background-color: #3B4455;\n",
              "      fill: #D2E3FC;\n",
              "    }\n",
              "\n",
              "    [theme=dark] .colab-df-convert:hover {\n",
              "      background-color: #434B5C;\n",
              "      box-shadow: 0px 1px 3px 1px rgba(0, 0, 0, 0.15);\n",
              "      filter: drop-shadow(0px 1px 2px rgba(0, 0, 0, 0.3));\n",
              "      fill: #FFFFFF;\n",
              "    }\n",
              "  </style>\n",
              "\n",
              "      <script>\n",
              "        const buttonEl =\n",
              "          document.querySelector('#df-32a83400-4735-4ecb-a55a-d870f55c1fa8 button.colab-df-convert');\n",
              "        buttonEl.style.display =\n",
              "          google.colab.kernel.accessAllowed ? 'block' : 'none';\n",
              "\n",
              "        async function convertToInteractive(key) {\n",
              "          const element = document.querySelector('#df-32a83400-4735-4ecb-a55a-d870f55c1fa8');\n",
              "          const dataTable =\n",
              "            await google.colab.kernel.invokeFunction('convertToInteractive',\n",
              "                                                     [key], {});\n",
              "          if (!dataTable) return;\n",
              "\n",
              "          const docLinkHtml = 'Like what you see? Visit the ' +\n",
              "            '<a target=\"_blank\" href=https://colab.research.google.com/notebooks/data_table.ipynb>data table notebook</a>'\n",
              "            + ' to learn more about interactive tables.';\n",
              "          element.innerHTML = '';\n",
              "          dataTable['output_type'] = 'display_data';\n",
              "          await google.colab.output.renderOutput(dataTable, element);\n",
              "          const docLink = document.createElement('div');\n",
              "          docLink.innerHTML = docLinkHtml;\n",
              "          element.appendChild(docLink);\n",
              "        }\n",
              "      </script>\n",
              "    </div>\n",
              "  </div>\n",
              "  "
            ]
          },
          "metadata": {},
          "execution_count": 15
        }
      ]
    },
    {
      "cell_type": "code",
      "source": [
        "data.groupby('marital').mean()"
      ],
      "metadata": {
        "colab": {
          "base_uri": "https://localhost:8080/",
          "height": 270
        },
        "id": "alJUcuNqrDnE",
        "outputId": "f1d7e3dd-5629-4b52-8efe-8813e2b4eb91"
      },
      "execution_count": 16,
      "outputs": [
        {
          "output_type": "execute_result",
          "data": {
            "text/plain": [
              "                age    duration  campaign       pdays  previous  emp_var_rate  \\\n",
              "marital                                                                         \n",
              "divorced  44.899393  253.790330   2.61340  968.639853  0.168690      0.163985   \n",
              "married   42.307165  257.438623   2.57281  967.247673  0.155608      0.183625   \n",
              "single    33.158714  261.524378   2.53380  949.909578  0.211359     -0.167989   \n",
              "unknown   40.275000  312.725000   3.18750  937.100000  0.275000     -0.221250   \n",
              "\n",
              "          cons_price_idx  cons_conf_idx  euribor3m  nr_employed         y  \n",
              "marital                                                                    \n",
              "divorced       93.606563     -40.707069   3.715603  5170.878643  0.103209  \n",
              "married        93.597367     -40.270659   3.745832  5171.848772  0.101573  \n",
              "single         93.517300     -40.918698   3.317447  5155.199265  0.140041  \n",
              "unknown        93.471250     -40.820000   3.313038  5157.393750  0.150000  "
            ],
            "text/html": [
              "\n",
              "  <div id=\"df-cf0fb23d-1f87-465f-b884-e5414addb99f\">\n",
              "    <div class=\"colab-df-container\">\n",
              "      <div>\n",
              "<style scoped>\n",
              "    .dataframe tbody tr th:only-of-type {\n",
              "        vertical-align: middle;\n",
              "    }\n",
              "\n",
              "    .dataframe tbody tr th {\n",
              "        vertical-align: top;\n",
              "    }\n",
              "\n",
              "    .dataframe thead th {\n",
              "        text-align: right;\n",
              "    }\n",
              "</style>\n",
              "<table border=\"1\" class=\"dataframe\">\n",
              "  <thead>\n",
              "    <tr style=\"text-align: right;\">\n",
              "      <th></th>\n",
              "      <th>age</th>\n",
              "      <th>duration</th>\n",
              "      <th>campaign</th>\n",
              "      <th>pdays</th>\n",
              "      <th>previous</th>\n",
              "      <th>emp_var_rate</th>\n",
              "      <th>cons_price_idx</th>\n",
              "      <th>cons_conf_idx</th>\n",
              "      <th>euribor3m</th>\n",
              "      <th>nr_employed</th>\n",
              "      <th>y</th>\n",
              "    </tr>\n",
              "    <tr>\n",
              "      <th>marital</th>\n",
              "      <th></th>\n",
              "      <th></th>\n",
              "      <th></th>\n",
              "      <th></th>\n",
              "      <th></th>\n",
              "      <th></th>\n",
              "      <th></th>\n",
              "      <th></th>\n",
              "      <th></th>\n",
              "      <th></th>\n",
              "      <th></th>\n",
              "    </tr>\n",
              "  </thead>\n",
              "  <tbody>\n",
              "    <tr>\n",
              "      <th>divorced</th>\n",
              "      <td>44.899393</td>\n",
              "      <td>253.790330</td>\n",
              "      <td>2.61340</td>\n",
              "      <td>968.639853</td>\n",
              "      <td>0.168690</td>\n",
              "      <td>0.163985</td>\n",
              "      <td>93.606563</td>\n",
              "      <td>-40.707069</td>\n",
              "      <td>3.715603</td>\n",
              "      <td>5170.878643</td>\n",
              "      <td>0.103209</td>\n",
              "    </tr>\n",
              "    <tr>\n",
              "      <th>married</th>\n",
              "      <td>42.307165</td>\n",
              "      <td>257.438623</td>\n",
              "      <td>2.57281</td>\n",
              "      <td>967.247673</td>\n",
              "      <td>0.155608</td>\n",
              "      <td>0.183625</td>\n",
              "      <td>93.597367</td>\n",
              "      <td>-40.270659</td>\n",
              "      <td>3.745832</td>\n",
              "      <td>5171.848772</td>\n",
              "      <td>0.101573</td>\n",
              "    </tr>\n",
              "    <tr>\n",
              "      <th>single</th>\n",
              "      <td>33.158714</td>\n",
              "      <td>261.524378</td>\n",
              "      <td>2.53380</td>\n",
              "      <td>949.909578</td>\n",
              "      <td>0.211359</td>\n",
              "      <td>-0.167989</td>\n",
              "      <td>93.517300</td>\n",
              "      <td>-40.918698</td>\n",
              "      <td>3.317447</td>\n",
              "      <td>5155.199265</td>\n",
              "      <td>0.140041</td>\n",
              "    </tr>\n",
              "    <tr>\n",
              "      <th>unknown</th>\n",
              "      <td>40.275000</td>\n",
              "      <td>312.725000</td>\n",
              "      <td>3.18750</td>\n",
              "      <td>937.100000</td>\n",
              "      <td>0.275000</td>\n",
              "      <td>-0.221250</td>\n",
              "      <td>93.471250</td>\n",
              "      <td>-40.820000</td>\n",
              "      <td>3.313038</td>\n",
              "      <td>5157.393750</td>\n",
              "      <td>0.150000</td>\n",
              "    </tr>\n",
              "  </tbody>\n",
              "</table>\n",
              "</div>\n",
              "      <button class=\"colab-df-convert\" onclick=\"convertToInteractive('df-cf0fb23d-1f87-465f-b884-e5414addb99f')\"\n",
              "              title=\"Convert this dataframe to an interactive table.\"\n",
              "              style=\"display:none;\">\n",
              "        \n",
              "  <svg xmlns=\"http://www.w3.org/2000/svg\" height=\"24px\"viewBox=\"0 0 24 24\"\n",
              "       width=\"24px\">\n",
              "    <path d=\"M0 0h24v24H0V0z\" fill=\"none\"/>\n",
              "    <path d=\"M18.56 5.44l.94 2.06.94-2.06 2.06-.94-2.06-.94-.94-2.06-.94 2.06-2.06.94zm-11 1L8.5 8.5l.94-2.06 2.06-.94-2.06-.94L8.5 2.5l-.94 2.06-2.06.94zm10 10l.94 2.06.94-2.06 2.06-.94-2.06-.94-.94-2.06-.94 2.06-2.06.94z\"/><path d=\"M17.41 7.96l-1.37-1.37c-.4-.4-.92-.59-1.43-.59-.52 0-1.04.2-1.43.59L10.3 9.45l-7.72 7.72c-.78.78-.78 2.05 0 2.83L4 21.41c.39.39.9.59 1.41.59.51 0 1.02-.2 1.41-.59l7.78-7.78 2.81-2.81c.8-.78.8-2.07 0-2.86zM5.41 20L4 18.59l7.72-7.72 1.47 1.35L5.41 20z\"/>\n",
              "  </svg>\n",
              "      </button>\n",
              "      \n",
              "  <style>\n",
              "    .colab-df-container {\n",
              "      display:flex;\n",
              "      flex-wrap:wrap;\n",
              "      gap: 12px;\n",
              "    }\n",
              "\n",
              "    .colab-df-convert {\n",
              "      background-color: #E8F0FE;\n",
              "      border: none;\n",
              "      border-radius: 50%;\n",
              "      cursor: pointer;\n",
              "      display: none;\n",
              "      fill: #1967D2;\n",
              "      height: 32px;\n",
              "      padding: 0 0 0 0;\n",
              "      width: 32px;\n",
              "    }\n",
              "\n",
              "    .colab-df-convert:hover {\n",
              "      background-color: #E2EBFA;\n",
              "      box-shadow: 0px 1px 2px rgba(60, 64, 67, 0.3), 0px 1px 3px 1px rgba(60, 64, 67, 0.15);\n",
              "      fill: #174EA6;\n",
              "    }\n",
              "\n",
              "    [theme=dark] .colab-df-convert {\n",
              "      background-color: #3B4455;\n",
              "      fill: #D2E3FC;\n",
              "    }\n",
              "\n",
              "    [theme=dark] .colab-df-convert:hover {\n",
              "      background-color: #434B5C;\n",
              "      box-shadow: 0px 1px 3px 1px rgba(0, 0, 0, 0.15);\n",
              "      filter: drop-shadow(0px 1px 2px rgba(0, 0, 0, 0.3));\n",
              "      fill: #FFFFFF;\n",
              "    }\n",
              "  </style>\n",
              "\n",
              "      <script>\n",
              "        const buttonEl =\n",
              "          document.querySelector('#df-cf0fb23d-1f87-465f-b884-e5414addb99f button.colab-df-convert');\n",
              "        buttonEl.style.display =\n",
              "          google.colab.kernel.accessAllowed ? 'block' : 'none';\n",
              "\n",
              "        async function convertToInteractive(key) {\n",
              "          const element = document.querySelector('#df-cf0fb23d-1f87-465f-b884-e5414addb99f');\n",
              "          const dataTable =\n",
              "            await google.colab.kernel.invokeFunction('convertToInteractive',\n",
              "                                                     [key], {});\n",
              "          if (!dataTable) return;\n",
              "\n",
              "          const docLinkHtml = 'Like what you see? Visit the ' +\n",
              "            '<a target=\"_blank\" href=https://colab.research.google.com/notebooks/data_table.ipynb>data table notebook</a>'\n",
              "            + ' to learn more about interactive tables.';\n",
              "          element.innerHTML = '';\n",
              "          dataTable['output_type'] = 'display_data';\n",
              "          await google.colab.output.renderOutput(dataTable, element);\n",
              "          const docLink = document.createElement('div');\n",
              "          docLink.innerHTML = docLinkHtml;\n",
              "          element.appendChild(docLink);\n",
              "        }\n",
              "      </script>\n",
              "    </div>\n",
              "  </div>\n",
              "  "
            ]
          },
          "metadata": {},
          "execution_count": 16
        }
      ]
    },
    {
      "cell_type": "code",
      "source": [
        "data.groupby('education').mean()"
      ],
      "metadata": {
        "colab": {
          "base_uri": "https://localhost:8080/",
          "height": 333
        },
        "id": "xSLhLOmRrPpY",
        "outputId": "36bb904c-2fa5-402b-b554-d9df9a134f9b"
      },
      "execution_count": 17,
      "outputs": [
        {
          "output_type": "execute_result",
          "data": {
            "text/plain": [
              "                           age    duration  campaign       pdays  previous  \\\n",
              "education                                                                    \n",
              "Basic                42.163910  263.043874  2.559498  974.877967  0.141053   \n",
              "high.school          37.998213  260.886810  2.568576  964.358382  0.185917   \n",
              "illiterate           48.500000  276.777778  2.277778  943.833333  0.111111   \n",
              "professional.course  40.080107  252.533855  2.586115  960.765974  0.163075   \n",
              "university.degree    38.879191  253.223373  2.563527  951.807692  0.192390   \n",
              "unknown              43.481225  262.390526  2.596187  942.830734  0.226459   \n",
              "\n",
              "                     emp_var_rate  cons_price_idx  cons_conf_idx  euribor3m  \\\n",
              "education                                                                     \n",
              "Basic                    0.191329       93.639933     -40.927595   3.729654   \n",
              "high.school              0.032937       93.584857     -40.940641   3.556157   \n",
              "illiterate              -0.133333       93.317333     -39.950000   3.516556   \n",
              "professional.course      0.173012       93.569864     -40.124108   3.710457   \n",
              "university.degree       -0.028090       93.493466     -39.975805   3.529663   \n",
              "unknown                  0.059099       93.658615     -39.877816   3.571098   \n",
              "\n",
              "                     nr_employed         y  \n",
              "education                                   \n",
              "Basic                5172.014113  0.087029  \n",
              "high.school          5164.994735  0.108355  \n",
              "illiterate           5171.777778  0.222222  \n",
              "professional.course  5170.155979  0.113485  \n",
              "university.degree    5163.226298  0.137245  \n",
              "unknown              5159.549509  0.145003  "
            ],
            "text/html": [
              "\n",
              "  <div id=\"df-736026f9-63b0-4f28-b2f1-2f89e2b5228c\">\n",
              "    <div class=\"colab-df-container\">\n",
              "      <div>\n",
              "<style scoped>\n",
              "    .dataframe tbody tr th:only-of-type {\n",
              "        vertical-align: middle;\n",
              "    }\n",
              "\n",
              "    .dataframe tbody tr th {\n",
              "        vertical-align: top;\n",
              "    }\n",
              "\n",
              "    .dataframe thead th {\n",
              "        text-align: right;\n",
              "    }\n",
              "</style>\n",
              "<table border=\"1\" class=\"dataframe\">\n",
              "  <thead>\n",
              "    <tr style=\"text-align: right;\">\n",
              "      <th></th>\n",
              "      <th>age</th>\n",
              "      <th>duration</th>\n",
              "      <th>campaign</th>\n",
              "      <th>pdays</th>\n",
              "      <th>previous</th>\n",
              "      <th>emp_var_rate</th>\n",
              "      <th>cons_price_idx</th>\n",
              "      <th>cons_conf_idx</th>\n",
              "      <th>euribor3m</th>\n",
              "      <th>nr_employed</th>\n",
              "      <th>y</th>\n",
              "    </tr>\n",
              "    <tr>\n",
              "      <th>education</th>\n",
              "      <th></th>\n",
              "      <th></th>\n",
              "      <th></th>\n",
              "      <th></th>\n",
              "      <th></th>\n",
              "      <th></th>\n",
              "      <th></th>\n",
              "      <th></th>\n",
              "      <th></th>\n",
              "      <th></th>\n",
              "      <th></th>\n",
              "    </tr>\n",
              "  </thead>\n",
              "  <tbody>\n",
              "    <tr>\n",
              "      <th>Basic</th>\n",
              "      <td>42.163910</td>\n",
              "      <td>263.043874</td>\n",
              "      <td>2.559498</td>\n",
              "      <td>974.877967</td>\n",
              "      <td>0.141053</td>\n",
              "      <td>0.191329</td>\n",
              "      <td>93.639933</td>\n",
              "      <td>-40.927595</td>\n",
              "      <td>3.729654</td>\n",
              "      <td>5172.014113</td>\n",
              "      <td>0.087029</td>\n",
              "    </tr>\n",
              "    <tr>\n",
              "      <th>high.school</th>\n",
              "      <td>37.998213</td>\n",
              "      <td>260.886810</td>\n",
              "      <td>2.568576</td>\n",
              "      <td>964.358382</td>\n",
              "      <td>0.185917</td>\n",
              "      <td>0.032937</td>\n",
              "      <td>93.584857</td>\n",
              "      <td>-40.940641</td>\n",
              "      <td>3.556157</td>\n",
              "      <td>5164.994735</td>\n",
              "      <td>0.108355</td>\n",
              "    </tr>\n",
              "    <tr>\n",
              "      <th>illiterate</th>\n",
              "      <td>48.500000</td>\n",
              "      <td>276.777778</td>\n",
              "      <td>2.277778</td>\n",
              "      <td>943.833333</td>\n",
              "      <td>0.111111</td>\n",
              "      <td>-0.133333</td>\n",
              "      <td>93.317333</td>\n",
              "      <td>-39.950000</td>\n",
              "      <td>3.516556</td>\n",
              "      <td>5171.777778</td>\n",
              "      <td>0.222222</td>\n",
              "    </tr>\n",
              "    <tr>\n",
              "      <th>professional.course</th>\n",
              "      <td>40.080107</td>\n",
              "      <td>252.533855</td>\n",
              "      <td>2.586115</td>\n",
              "      <td>960.765974</td>\n",
              "      <td>0.163075</td>\n",
              "      <td>0.173012</td>\n",
              "      <td>93.569864</td>\n",
              "      <td>-40.124108</td>\n",
              "      <td>3.710457</td>\n",
              "      <td>5170.155979</td>\n",
              "      <td>0.113485</td>\n",
              "    </tr>\n",
              "    <tr>\n",
              "      <th>university.degree</th>\n",
              "      <td>38.879191</td>\n",
              "      <td>253.223373</td>\n",
              "      <td>2.563527</td>\n",
              "      <td>951.807692</td>\n",
              "      <td>0.192390</td>\n",
              "      <td>-0.028090</td>\n",
              "      <td>93.493466</td>\n",
              "      <td>-39.975805</td>\n",
              "      <td>3.529663</td>\n",
              "      <td>5163.226298</td>\n",
              "      <td>0.137245</td>\n",
              "    </tr>\n",
              "    <tr>\n",
              "      <th>unknown</th>\n",
              "      <td>43.481225</td>\n",
              "      <td>262.390526</td>\n",
              "      <td>2.596187</td>\n",
              "      <td>942.830734</td>\n",
              "      <td>0.226459</td>\n",
              "      <td>0.059099</td>\n",
              "      <td>93.658615</td>\n",
              "      <td>-39.877816</td>\n",
              "      <td>3.571098</td>\n",
              "      <td>5159.549509</td>\n",
              "      <td>0.145003</td>\n",
              "    </tr>\n",
              "  </tbody>\n",
              "</table>\n",
              "</div>\n",
              "      <button class=\"colab-df-convert\" onclick=\"convertToInteractive('df-736026f9-63b0-4f28-b2f1-2f89e2b5228c')\"\n",
              "              title=\"Convert this dataframe to an interactive table.\"\n",
              "              style=\"display:none;\">\n",
              "        \n",
              "  <svg xmlns=\"http://www.w3.org/2000/svg\" height=\"24px\"viewBox=\"0 0 24 24\"\n",
              "       width=\"24px\">\n",
              "    <path d=\"M0 0h24v24H0V0z\" fill=\"none\"/>\n",
              "    <path d=\"M18.56 5.44l.94 2.06.94-2.06 2.06-.94-2.06-.94-.94-2.06-.94 2.06-2.06.94zm-11 1L8.5 8.5l.94-2.06 2.06-.94-2.06-.94L8.5 2.5l-.94 2.06-2.06.94zm10 10l.94 2.06.94-2.06 2.06-.94-2.06-.94-.94-2.06-.94 2.06-2.06.94z\"/><path d=\"M17.41 7.96l-1.37-1.37c-.4-.4-.92-.59-1.43-.59-.52 0-1.04.2-1.43.59L10.3 9.45l-7.72 7.72c-.78.78-.78 2.05 0 2.83L4 21.41c.39.39.9.59 1.41.59.51 0 1.02-.2 1.41-.59l7.78-7.78 2.81-2.81c.8-.78.8-2.07 0-2.86zM5.41 20L4 18.59l7.72-7.72 1.47 1.35L5.41 20z\"/>\n",
              "  </svg>\n",
              "      </button>\n",
              "      \n",
              "  <style>\n",
              "    .colab-df-container {\n",
              "      display:flex;\n",
              "      flex-wrap:wrap;\n",
              "      gap: 12px;\n",
              "    }\n",
              "\n",
              "    .colab-df-convert {\n",
              "      background-color: #E8F0FE;\n",
              "      border: none;\n",
              "      border-radius: 50%;\n",
              "      cursor: pointer;\n",
              "      display: none;\n",
              "      fill: #1967D2;\n",
              "      height: 32px;\n",
              "      padding: 0 0 0 0;\n",
              "      width: 32px;\n",
              "    }\n",
              "\n",
              "    .colab-df-convert:hover {\n",
              "      background-color: #E2EBFA;\n",
              "      box-shadow: 0px 1px 2px rgba(60, 64, 67, 0.3), 0px 1px 3px 1px rgba(60, 64, 67, 0.15);\n",
              "      fill: #174EA6;\n",
              "    }\n",
              "\n",
              "    [theme=dark] .colab-df-convert {\n",
              "      background-color: #3B4455;\n",
              "      fill: #D2E3FC;\n",
              "    }\n",
              "\n",
              "    [theme=dark] .colab-df-convert:hover {\n",
              "      background-color: #434B5C;\n",
              "      box-shadow: 0px 1px 3px 1px rgba(0, 0, 0, 0.15);\n",
              "      filter: drop-shadow(0px 1px 2px rgba(0, 0, 0, 0.3));\n",
              "      fill: #FFFFFF;\n",
              "    }\n",
              "  </style>\n",
              "\n",
              "      <script>\n",
              "        const buttonEl =\n",
              "          document.querySelector('#df-736026f9-63b0-4f28-b2f1-2f89e2b5228c button.colab-df-convert');\n",
              "        buttonEl.style.display =\n",
              "          google.colab.kernel.accessAllowed ? 'block' : 'none';\n",
              "\n",
              "        async function convertToInteractive(key) {\n",
              "          const element = document.querySelector('#df-736026f9-63b0-4f28-b2f1-2f89e2b5228c');\n",
              "          const dataTable =\n",
              "            await google.colab.kernel.invokeFunction('convertToInteractive',\n",
              "                                                     [key], {});\n",
              "          if (!dataTable) return;\n",
              "\n",
              "          const docLinkHtml = 'Like what you see? Visit the ' +\n",
              "            '<a target=\"_blank\" href=https://colab.research.google.com/notebooks/data_table.ipynb>data table notebook</a>'\n",
              "            + ' to learn more about interactive tables.';\n",
              "          element.innerHTML = '';\n",
              "          dataTable['output_type'] = 'display_data';\n",
              "          await google.colab.output.renderOutput(dataTable, element);\n",
              "          const docLink = document.createElement('div');\n",
              "          docLink.innerHTML = docLinkHtml;\n",
              "          element.appendChild(docLink);\n",
              "        }\n",
              "      </script>\n",
              "    </div>\n",
              "  </div>\n",
              "  "
            ]
          },
          "metadata": {},
          "execution_count": 17
        }
      ]
    },
    {
      "cell_type": "markdown",
      "source": [
        "### Visualizations\n"
      ],
      "metadata": {
        "id": "DfqZQlKdr3MU"
      }
    },
    {
      "cell_type": "code",
      "source": [
        "%matplotlib inline\n",
        "pd.crosstab(data.job,data.y).plot(kind='bar')\n",
        "plt.title('Purchase Frequency for Job Title')\n",
        "plt.xlabel('Job')\n",
        "plt.ylabel('Frequency of Purchase')\n",
        "plt.savefig('purchase_fre_job')"
      ],
      "metadata": {
        "colab": {
          "base_uri": "https://localhost:8080/",
          "height": 356
        },
        "id": "lYpfvuhzrYXf",
        "outputId": "e6bf7758-4c3d-47cc-dcb5-9c3492508dfe"
      },
      "execution_count": 18,
      "outputs": [
        {
          "output_type": "display_data",
          "data": {
            "text/plain": [
              "<Figure size 432x288 with 1 Axes>"
            ],
            "image/png": "[encoded data removed]"
          },
          "metadata": {
            "needs_background": "light"
          }
        }
      ]
    },
    {
      "cell_type": "markdown",
      "source": [
        "The frequency of purchase of the deposit depends a great deal on the job title. Thus, the job title can be a good predictor of the outcome variable."
      ],
      "metadata": {
        "id": "s3Ees4tPyMUQ"
      }
    },
    {
      "cell_type": "code",
      "source": [],
      "metadata": {
        "id": "IQjEmj9itffB"
      },
      "execution_count": 18,
      "outputs": []
    },
    {
      "cell_type": "code",
      "source": [
        "table = pd.crosstab(data.marital,data.y)\n",
        "table.div(table.sum(1).astype(float), axis=0).plot(kind='bar', stacked=True)\n",
        "plt.title('Stacked Bar Chart of Marital Status vs Purchase')\n",
        "plt.xlabel('Marital Status')\n",
        "plt.ylabel('Proportion of Customers')\n",
        "plt.savefig('mariral_vs_pur_stack')"
      ],
      "metadata": {
        "id": "1omFhNEeyO8K",
        "colab": {
          "base_uri": "https://localhost:8080/",
          "height": 331
        },
        "outputId": "7127841b-e691-4074-997e-b7e369b88e75"
      },
      "execution_count": 19,
      "outputs": [
        {
          "output_type": "display_data",
          "data": {
            "text/plain": [
              "<Figure size 432x288 with 1 Axes>"
            ],
            "image/png": "[encoded data removed]"
          },
          "metadata": {
            "needs_background": "light"
          }
        }
      ]
    },
    {
      "cell_type": "markdown",
      "source": [
        "The marital status does not seem a strong predictor for the outcome variable"
      ],
      "metadata": {
        "id": "VsRFQ6s3yLX6"
      }
    },
    {
      "cell_type": "code",
      "source": [],
      "metadata": {
        "id": "VhquGQhH0l_y"
      },
      "execution_count": 19,
      "outputs": []
    },
    {
      "cell_type": "code",
      "source": [
        "table = pd.crosstab(data.education,data.y)\n",
        "table.div(table.sum(1).astype(float), axis=0).plot(kind='bar', stacked=True)\n",
        "plt.title('Stacked Bar Chart of Education vs Purchase')\n",
        "plt.xlabel('Education')\n",
        "plt.ylabel('Proportion of Customers')\n",
        "plt.savefig('edu_vs_pur_stack')"
      ],
      "metadata": {
        "colab": {
          "base_uri": "https://localhost:8080/",
          "height": 383
        },
        "id": "Tsjl1ccF0nmD",
        "outputId": "9f7bb788-cc38-4cab-ee9b-86b9ca0a0c70"
      },
      "execution_count": 20,
      "outputs": [
        {
          "output_type": "display_data",
          "data": {
            "text/plain": [
              "<Figure size 432x288 with 1 Axes>"
            ],
            "image/png": "[encoded data removed]"
          },
          "metadata": {
            "needs_background": "light"
          }
        }
      ]
    },
    {
      "cell_type": "markdown",
      "source": [
        "Education seems a good predictor of the outcome variable."
      ],
      "metadata": {
        "id": "ZvNV9vzh1M-D"
      }
    },
    {
      "cell_type": "code",
      "source": [],
      "metadata": {
        "id": "hDt1YaiW1OVB"
      },
      "execution_count": 20,
      "outputs": []
    },
    {
      "cell_type": "code",
      "source": [
        "pd.crosstab(data.day_of_week,data.y).plot(kind='bar')\n",
        "plt.title('Purchase Frequency for Day of Week')\n",
        "plt.xlabel('Day of Week')\n",
        "plt.ylabel('Frequency of Purchase')\n",
        "plt.savefig('pur_dayofweek_bar')"
      ],
      "metadata": {
        "colab": {
          "base_uri": "https://localhost:8080/",
          "height": 307
        },
        "id": "6YKK4JAS1Imd",
        "outputId": "80d921f1-7349-49d7-941b-4112cedc46a1"
      },
      "execution_count": 21,
      "outputs": [
        {
          "output_type": "display_data",
          "data": {
            "text/plain": [
              "<Figure size 432x288 with 1 Axes>"
            ],
            "image/png": "[encoded data removed]"
          },
          "metadata": {
            "needs_background": "light"
          }
        }
      ]
    },
    {
      "cell_type": "markdown",
      "source": [
        "Day of week may not be a good predictor of the outcome."
      ],
      "metadata": {
        "id": "KMxvgeYl35O9"
      }
    },
    {
      "cell_type": "code",
      "source": [],
      "metadata": {
        "id": "8HqkBeE73w-x"
      },
      "execution_count": 21,
      "outputs": []
    },
    {
      "cell_type": "code",
      "source": [
        "pd.crosstab(data.month,data.y).plot(kind='bar')\n",
        "plt.title('Purchase Frequency for Month')\n",
        "plt.xlabel('Month')\n",
        "plt.ylabel('Frequency of Purchase')\n",
        "plt.savefig('pur_fre_month_bar')"
      ],
      "metadata": {
        "colab": {
          "base_uri": "https://localhost:8080/",
          "height": 307
        },
        "id": "IWUnoPw036TN",
        "outputId": "1c7e2584-abd1-4733-9bd3-cba7c521d701"
      },
      "execution_count": 22,
      "outputs": [
        {
          "output_type": "display_data",
          "data": {
            "text/plain": [
              "<Figure size 432x288 with 1 Axes>"
            ],
            "image/png": "[encoded data removed]"
          },
          "metadata": {
            "needs_background": "light"
          }
        }
      ]
    },
    {
      "cell_type": "markdown",
      "source": [
        "Month might be a good predictor of the outcome variable."
      ],
      "metadata": {
        "id": "_zu4FBRZ4Esv"
      }
    },
    {
      "cell_type": "code",
      "source": [],
      "metadata": {
        "id": "TtxZMQ6A4ARe"
      },
      "execution_count": 22,
      "outputs": []
    },
    {
      "cell_type": "code",
      "source": [
        "data.age.hist()\n",
        "plt.title('Histogram of Age')\n",
        "plt.xlabel('Age')\n",
        "plt.ylabel('Frequency')\n",
        "plt.savefig('hist_age')"
      ],
      "metadata": {
        "colab": {
          "base_uri": "https://localhost:8080/",
          "height": 295
        },
        "id": "u7vJzaSz4GeY",
        "outputId": "01c5bcfc-c5e9-49a8-cc9c-975e4f1debb8"
      },
      "execution_count": 23,
      "outputs": [
        {
          "output_type": "display_data",
          "data": {
            "text/plain": [
              "<Figure size 432x288 with 1 Axes>"
            ],
            "image/png": "[encoded data removed]"
          },
          "metadata": {
            "needs_background": "light"
          }
        }
      ]
    },
    {
      "cell_type": "markdown",
      "source": [
        "Most of the customers of the bank in this dataset are in the age range of 30–40.\n",
        "\n"
      ],
      "metadata": {
        "id": "8I374qi26eJX"
      }
    },
    {
      "cell_type": "code",
      "source": [],
      "metadata": {
        "id": "UzWPe7fH4N6C"
      },
      "execution_count": 23,
      "outputs": []
    },
    {
      "cell_type": "code",
      "source": [
        "pd.crosstab(data.poutcome,data.y).plot(kind='bar')\n",
        "plt.title('Purchase Frequency for Poutcome')\n",
        "plt.xlabel('Poutcome')\n",
        "plt.ylabel('Frequency of Purchase')\n",
        "plt.savefig('pur_fre_pout_bar')"
      ],
      "metadata": {
        "colab": {
          "base_uri": "https://localhost:8080/",
          "height": 344
        },
        "id": "LytAxqk86fF3",
        "outputId": "4c57d58f-b284-4106-bf72-fc5bbc65f0a7"
      },
      "execution_count": 24,
      "outputs": [
        {
          "output_type": "display_data",
          "data": {
            "text/plain": [
              "<Figure size 432x288 with 1 Axes>"
            ],
            "image/png": "[encoded data removed]"
          },
          "metadata": {
            "needs_background": "light"
          }
        }
      ]
    },
    {
      "cell_type": "markdown",
      "source": [
        "Poutcome seems to be a good predictor of the outcome variable."
      ],
      "metadata": {
        "id": "KMfTqlUb7BRo"
      }
    },
    {
      "cell_type": "markdown",
      "source": [
        "### **Create dummy variables**"
      ],
      "metadata": {
        "id": "Z0E_geve7pSK"
      }
    },
    {
      "cell_type": "markdown",
      "source": [
        "That is variables with only two values, zero and one."
      ],
      "metadata": {
        "id": "eSBSdEl1Ocf5"
      }
    },
    {
      "cell_type": "code",
      "source": [
        "cat_vars=['job','marital','education','default','housing','loan','contact','month','day_of_week','poutcome']\n",
        "for var in cat_vars:\n",
        "    cat_list='var'+'_'+var\n",
        "    cat_list = pd.get_dummies(data[var], prefix=var)\n",
        "    data1=data.join(cat_list)\n",
        "    data=data1\n",
        "\n",
        "cat_vars=['job','marital','education','default','housing','loan','contact','month','day_of_week','poutcome']\n",
        "data_vars=data.columns.values.tolist()\n",
        "to_keep=[i for i in data_vars if i not in cat_vars]   "
      ],
      "metadata": {
        "id": "tDteTC9v66d3"
      },
      "execution_count": 25,
      "outputs": []
    },
    {
      "cell_type": "code",
      "source": [
        "data_final=data[to_keep]\n",
        "data_final.columns.values\n"
      ],
      "metadata": {
        "colab": {
          "base_uri": "https://localhost:8080/"
        },
        "id": "eSMedJOsQd9F",
        "outputId": "b75dc9f5-1dee-41d5-8fcd-4ca18b591169"
      },
      "execution_count": 26,
      "outputs": [
        {
          "output_type": "execute_result",
          "data": {
            "text/plain": [
              "array(['age', 'duration', 'campaign', 'pdays', 'previous', 'emp_var_rate',\n",
              "       'cons_price_idx', 'cons_conf_idx', 'euribor3m', 'nr_employed', 'y',\n",
              "       'job_admin.', 'job_blue-collar', 'job_entrepreneur',\n",
              "       'job_housemaid', 'job_management', 'job_retired',\n",
              "       'job_self-employed', 'job_services', 'job_student',\n",
              "       'job_technician', 'job_unemployed', 'job_unknown',\n",
              "       'marital_divorced', 'marital_married', 'marital_single',\n",
              "       'marital_unknown', 'education_Basic', 'education_high.school',\n",
              "       'education_illiterate', 'education_professional.course',\n",
              "       'education_university.degree', 'education_unknown', 'default_no',\n",
              "       'default_unknown', 'default_yes', 'housing_no', 'housing_unknown',\n",
              "       'housing_yes', 'loan_no', 'loan_unknown', 'loan_yes',\n",
              "       'contact_cellular', 'contact_telephone', 'month_apr', 'month_aug',\n",
              "       'month_dec', 'month_jul', 'month_jun', 'month_mar', 'month_may',\n",
              "       'month_nov', 'month_oct', 'month_sep', 'day_of_week_fri',\n",
              "       'day_of_week_mon', 'day_of_week_thu', 'day_of_week_tue',\n",
              "       'day_of_week_wed', 'poutcome_failure', 'poutcome_nonexistent',\n",
              "       'poutcome_success'], dtype=object)"
            ]
          },
          "metadata": {},
          "execution_count": 26
        }
      ]
    },
    {
      "cell_type": "markdown",
      "source": [
        "###Over-sampling using SMOTE"
      ],
      "metadata": {
        "id": "LUc8UQC3V_Ri"
      }
    },
    {
      "cell_type": "markdown",
      "source": [
        "With our training data created, I’ll up-sample the no-subscription using the SMOTE algorithm(Synthetic Minority Oversampling Technique). At a high level, SMOTE:\n",
        "\n",
        "1. Works by creating synthetic samples from the minor class (no-subscription) instead of creating copies.\n",
        "\n",
        "2. Randomly choosing one of the k-nearest-neighbors and using it to create a similar, but randomly tweaked, new observations."
      ],
      "metadata": {
        "id": "3GIlAvo5W1d0"
      }
    },
    {
      "cell_type": "code",
      "source": [
        "X = data_final.loc[:, data_final.columns != 'y']\n",
        "y = data_final.loc[:, data_final.columns == 'y']"
      ],
      "metadata": {
        "id": "GE6GGEB3UTy4"
      },
      "execution_count": 27,
      "outputs": []
    },
    {
      "cell_type": "code",
      "source": [
        "from sklearn.model_selection import train_test_split\n",
        "from imblearn.over_sampling import SMOTE\n",
        "os = SMOTE(random_state=0)\n",
        "X_train, X_test, y_train, y_test = train_test_split(X, y, test_size=0.3, random_state=0)\n",
        "columns = X_train.columns"
      ],
      "metadata": {
        "id": "sHLpszkUYU_O"
      },
      "execution_count": 29,
      "outputs": []
    },
    {
      "cell_type": "code",
      "source": [
        "\n",
        "# from sklearn import preprocessing\n",
        "# import matplotlib.pyplot as plt \n",
        "# plt.rc(\"font\", size=14)\n",
        "# from sklearn.linear_model import LogisticRegression\n",
        "# from sklearn.model_selection import train_test_split\n",
        "# import seaborn as sns\n",
        "# sns.set(style=\"white\")\n",
        "# sns.set(style=\"whitegrid\", color_codes=True)\n",
        "\n",
        "\n",
        "os_data_X,os_data_y=os.fit_resample(X_train, y_train)\n",
        "os_data_X = pd.DataFrame(data=os_data_X,columns=columns )\n",
        "os_data_y= pd.DataFrame(data=os_data_y,columns=['y'])\n",
        "\n",
        "# we can Check the numbers of our data\n",
        "print(\"length of oversampled data is \",len(os_data_X))\n",
        "print(\"Number of no subscription in oversampled data\",len(os_data_y[os_data_y['y']==0]))\n",
        "print(\"Number of subscription\",len(os_data_y[os_data_y['y']==1]))\n",
        "print(\"Proportion of no subscription data in oversampled data is \",len(os_data_y[os_data_y['y']==0])/len(os_data_X))\n",
        "print(\"Proportion of subscription data in oversampled data is \",len(os_data_y[os_data_y['y']==1])/len(os_data_X))"
      ],
      "metadata": {
        "colab": {
          "base_uri": "https://localhost:8080/"
        },
        "id": "AodPBmCnYYYC",
        "outputId": "523a8cd1-afcd-492f-c4ff-95681d0fc831"
      },
      "execution_count": 32,
      "outputs": [
        {
          "output_type": "stream",
          "name": "stdout",
          "text": [
            "length of oversampled data is  51134\n",
            "Number of no subscription in oversampled data 25567\n",
            "Number of subscription 25567\n",
            "Proportion of no subscription data in oversampled data is  0.5\n",
            "Proportion of subscription data in oversampled data is  0.5\n"
          ]
        }
      ]
    },
    {
      "cell_type": "markdown",
      "source": [
        "Now we have a perfect balanced data! You may have noticed that I over-sampled only on the training data, because by oversampling only on the training data, none of the information in the test data is being used to create synthetic observations, therefore, no information will bleed from test data into the model training."
      ],
      "metadata": {
        "id": "fyKPZtSHbjeR"
      }
    },
    {
      "cell_type": "markdown",
      "source": [
        "##Recursive Feature Elimination"
      ],
      "metadata": {
        "id": "GB1nhnzCcacc"
      }
    },
    {
      "cell_type": "markdown",
      "source": [
        "Recursive Feature Elimination (RFE) is based on the idea to repeatedly construct a model and choose either the best or worst performing feature, setting the feature aside and then repeating the process with the rest of the features. This process is applied until all features in the dataset are exhausted. The goal of RFE is to select features by recursively considering smaller and smaller sets of features."
      ],
      "metadata": {
        "id": "yuULEajacqad"
      }
    },
    {
      "cell_type": "code",
      "source": [
        "from sklearn.feature_selection import RFE\n",
        "from sklearn.linear_model import LogisticRegression\n",
        "\n",
        "data_final_vars=data_final.columns.values.tolist()\n",
        "y=['y']\n",
        "X=[i for i in data_final_vars if i not in y]\n",
        "\n",
        "logreg = LogisticRegression()\n",
        "rfe = RFE(logreg,step=20)\n",
        "rfe = rfe.fit(os_data_X,os_data_y.values.ravel())\n",
        "print(rfe.support_)\n",
        "print(rfe.ranking_)"
      ],
      "metadata": {
        "colab": {
          "base_uri": "https://localhost:8080/"
        },
        "id": "F4vmuTP_bkcM",
        "outputId": "a99ca31e-92fd-4e86-e90b-d03db634674b"
      },
      "execution_count": 42,
      "outputs": [
        {
          "output_type": "stream",
          "name": "stderr",
          "text": [
            "/usr/local/lib/python3.7/dist-packages/sklearn/linear_model/_logistic.py:818: ConvergenceWarning: lbfgs failed to converge (status=1):\n",
            "STOP: TOTAL NO. of ITERATIONS REACHED LIMIT.\n",
            "\n",
            "Increase the number of iterations (max_iter) or scale the data as shown in:\n",
            "    https://scikit-learn.org/stable/modules/preprocessing.html\n",
            "Please also refer to the documentation for alternative solver options:\n",
            "    https://scikit-learn.org/stable/modules/linear_model.html#logistic-regression\n",
            "  extra_warning_msg=_LOGISTIC_SOLVER_CONVERGENCE_MSG,\n",
            "/usr/local/lib/python3.7/dist-packages/sklearn/linear_model/_logistic.py:818: ConvergenceWarning: lbfgs failed to converge (status=1):\n",
            "STOP: TOTAL NO. of ITERATIONS REACHED LIMIT.\n",
            "\n",
            "Increase the number of iterations (max_iter) or scale the data as shown in:\n",
            "    https://scikit-learn.org/stable/modules/preprocessing.html\n",
            "Please also refer to the documentation for alternative solver options:\n",
            "    https://scikit-learn.org/stable/modules/linear_model.html#logistic-regression\n",
            "  extra_warning_msg=_LOGISTIC_SOLVER_CONVERGENCE_MSG,\n"
          ]
        },
        {
          "output_type": "stream",
          "name": "stdout",
          "text": [
            "[False False False False False False False False False False  True  True\n",
            "  True False  True False  True  True False  True  True False  True  True\n",
            "  True False  True  True False  True  True  True False False False  True\n",
            "  True  True False False False  True  True  True False False False False\n",
            " False  True  True False False  True  True  True  True  True  True False\n",
            " False]\n",
            "[3 3 2 3 2 2 2 3 2 3 1 1 1 3 1 3 1 1 3 1 1 3 1 1 1 3 1 1 3 1 1 1 3 2 3 1 1\n",
            " 1 2 3 2 1 1 1 2 3 2 3 2 1 1 3 3 1 1 1 1 1 1 3 3]\n"
          ]
        }
      ]
    },
    {
      "cell_type": "markdown",
      "source": [
        "The RFE has helped us select the following features: “euribor3m”, “job_blue-collar”, “job_housemaid”, “marital_unknown”, “education_illiterate”, “default_no”, “default_unknown”, “contact_cellular”, “contact_telephone”, “month_apr”, “month_aug”, “month_dec”, “month_jul”, “month_jun”, “month_mar”, “month_may”, “month_nov”, “month_oct”, “poutcome_failure”, “poutcome_success”."
      ],
      "metadata": {
        "id": "hnjyR7hzg-Xm"
      }
    },
    {
      "cell_type": "code",
      "source": [],
      "metadata": {
        "id": "H0ZHsYtRc1MU"
      },
      "execution_count": null,
      "outputs": []
    },
    {
      "cell_type": "code",
      "source": [
        "cols=['euribor3m', 'job_blue-collar', 'job_housemaid', 'marital_unknown', 'education_illiterate', 'default_no', 'default_unknown', \n",
        "      'contact_cellular', 'contact_telephone', 'month_apr', 'month_aug', 'month_dec', 'month_jul', 'month_jun', 'month_mar', \n",
        "      'month_may', 'month_nov', 'month_oct', \"poutcome_failure\", \"poutcome_success\"] \n",
        "X=os_data_X[cols]\n",
        "y=os_data_y['y']"
      ],
      "metadata": {
        "id": "H2gWwSrVg_nk"
      },
      "execution_count": 43,
      "outputs": []
    },
    {
      "cell_type": "markdown",
      "source": [
        "### Implementing the model"
      ],
      "metadata": {
        "id": "CSyUpREOhsF2"
      }
    },
    {
      "cell_type": "code",
      "source": [
        "import statsmodels.api as sm\n",
        "logit_model=sm.Logit(y,X)\n",
        "result=logit_model.fit()\n",
        "print(result.summary2())"
      ],
      "metadata": {
        "colab": {
          "base_uri": "https://localhost:8080/"
        },
        "id": "NykX8dlshTAf",
        "outputId": "79ccaf38-d6c3-4552-ab32-a616d8c131c4"
      },
      "execution_count": 44,
      "outputs": [
        {
          "output_type": "stream",
          "name": "stdout",
          "text": [
            "Optimization terminated successfully.\n",
            "         Current function value: 0.455664\n",
            "         Iterations 7\n",
            "                           Results: Logit\n",
            "=====================================================================\n",
            "Model:                Logit             Pseudo R-squared:  0.343     \n",
            "Dependent Variable:   y                 AIC:               46639.8230\n",
            "Date:                 2022-10-25 19:03  BIC:               46816.6671\n",
            "No. Observations:     51134             Log-Likelihood:    -23300.   \n",
            "Df Model:             19                LL-Null:           -35443.   \n",
            "Df Residuals:         51114             LLR p-value:       0.0000    \n",
            "Converged:            1.0000            Scale:             1.0000    \n",
            "No. Iterations:       7.0000                                         \n",
            "---------------------------------------------------------------------\n",
            "                      Coef.  Std.Err.    z     P>|z|   [0.025  0.975]\n",
            "---------------------------------------------------------------------\n",
            "euribor3m             0.1612   0.0082  19.7747 0.0000  0.1452  0.1772\n",
            "job_blue-collar      -0.9965   0.0381 -26.1297 0.0000 -1.0713 -0.9218\n",
            "job_housemaid        -1.6294   0.1377 -11.8333 0.0000 -1.8992 -1.3595\n",
            "marital_unknown      -1.1078   0.4206  -2.6341 0.0084 -1.9321 -0.2835\n",
            "education_illiterate  0.2400   0.6653   0.3607 0.7183 -1.0640  1.5440\n",
            "default_no            0.7992   0.0371  21.5471 0.0000  0.7265  0.8719\n",
            "default_unknown      -0.4594   0.0569  -8.0728 0.0000 -0.5710 -0.3479\n",
            "contact_cellular      1.5089   0.0442  34.1712 0.0000  1.4224  1.5955\n",
            "contact_telephone    -0.3741   0.0574  -6.5139 0.0000 -0.4866 -0.2615\n",
            "month_apr            -2.1779   0.0546 -39.8720 0.0000 -2.2849 -2.0708\n",
            "month_aug            -3.6210   0.0529 -68.4507 0.0000 -3.7247 -3.5173\n",
            "month_dec            -1.7432   0.1714 -10.1703 0.0000 -2.0792 -1.4073\n",
            "month_jul            -3.4498   0.0529 -65.1525 0.0000 -3.5536 -3.3460\n",
            "month_jun            -2.0963   0.0529 -39.5915 0.0000 -2.2001 -1.9925\n",
            "month_mar            -1.0951   0.0955 -11.4692 0.0000 -1.2823 -0.9080\n",
            "month_may            -2.5263   0.0441 -57.2399 0.0000 -2.6128 -2.4398\n",
            "month_nov            -3.6154   0.0577 -62.6966 0.0000 -3.7285 -3.5024\n",
            "month_oct            -1.0519   0.0856 -12.2918 0.0000 -1.2196 -0.8842\n",
            "poutcome_failure     -0.8995   0.0462 -19.4669 0.0000 -0.9901 -0.8090\n",
            "poutcome_success      2.4584   0.0662  37.1260 0.0000  2.3286  2.5882\n",
            "=====================================================================\n",
            "\n"
          ]
        }
      ]
    },
    {
      "cell_type": "markdown",
      "source": [
        "The p-values for most of the variables are smaller than 0.05, except four variables, therefore, we will remove them."
      ],
      "metadata": {
        "id": "joYnDgxiij2B"
      }
    },
    {
      "cell_type": "code",
      "source": [],
      "metadata": {
        "id": "mqqcd6XIhzkB"
      },
      "execution_count": null,
      "outputs": []
    },
    {
      "cell_type": "code",
      "source": [
        "cols=['euribor3m', 'job_blue-collar', 'job_housemaid', 'marital_unknown', 'education_illiterate', \n",
        "      'month_apr', 'month_aug', 'month_dec', 'month_jul', 'month_jun', 'month_mar', \n",
        "      'month_may', 'month_nov', 'month_oct', \"poutcome_failure\", \"poutcome_success\"] \n",
        "X=os_data_X[cols]\n",
        "y=os_data_y['y']\n",
        "logit_model=sm.Logit(y,X)\n",
        "result=logit_model.fit()\n",
        "print(result.summary2())"
      ],
      "metadata": {
        "colab": {
          "base_uri": "https://localhost:8080/"
        },
        "id": "6JEt5uEoik9F",
        "outputId": "78ec0366-c7e1-4537-a210-a6cfc858f0c1"
      },
      "execution_count": 45,
      "outputs": [
        {
          "output_type": "stream",
          "name": "stdout",
          "text": [
            "Optimization terminated successfully.\n",
            "         Current function value: 0.547516\n",
            "         Iterations 7\n",
            "                           Results: Logit\n",
            "=====================================================================\n",
            "Model:                Logit             Pseudo R-squared:  0.210     \n",
            "Dependent Variable:   y                 AIC:               56025.3883\n",
            "Date:                 2022-10-25 19:07  BIC:               56166.8635\n",
            "No. Observations:     51134             Log-Likelihood:    -27997.   \n",
            "Df Model:             15                LL-Null:           -35443.   \n",
            "Df Residuals:         51118             LLR p-value:       0.0000    \n",
            "Converged:            1.0000            Scale:             1.0000    \n",
            "No. Iterations:       7.0000                                         \n",
            "---------------------------------------------------------------------\n",
            "                      Coef.  Std.Err.    z     P>|z|   [0.025  0.975]\n",
            "---------------------------------------------------------------------\n",
            "euribor3m             0.1726   0.0055  31.1231 0.0000  0.1617  0.1835\n",
            "job_blue-collar      -1.0761   0.0360 -29.9182 0.0000 -1.1465 -1.0056\n",
            "job_housemaid        -1.6936   0.1293 -13.1030 0.0000 -1.9469 -1.4403\n",
            "marital_unknown      -1.1130   0.4136  -2.6908 0.0071 -1.9237 -0.3023\n",
            "education_illiterate  0.1325   0.6595   0.2009 0.8408 -1.1602  1.4251\n",
            "month_apr            -0.2660   0.0414  -6.4324 0.0000 -0.3470 -0.1849\n",
            "month_aug            -1.6700   0.0393 -42.4900 0.0000 -1.7471 -1.5930\n",
            "month_dec            -0.1384   0.1606  -0.8616 0.3889 -0.4532  0.1764\n",
            "month_jul            -1.6077   0.0391 -41.1482 0.0000 -1.6843 -1.5311\n",
            "month_jun            -1.3552   0.0394 -34.4031 0.0000 -1.4324 -1.2780\n",
            "month_mar             0.7367   0.0859   8.5771 0.0000  0.5684  0.9050\n",
            "month_may            -1.5298   0.0302 -50.7234 0.0000 -1.5889 -1.4707\n",
            "month_nov            -1.7487   0.0467 -37.4200 0.0000 -1.8403 -1.6571\n",
            "month_oct             0.4962   0.0751   6.6078 0.0000  0.3490  0.6434\n",
            "poutcome_failure      0.0003   0.0419   0.0063 0.9949 -0.0818  0.0824\n",
            "poutcome_success      3.1910   0.0595  53.6365 0.0000  3.0744  3.3076\n",
            "=====================================================================\n",
            "\n"
          ]
        }
      ]
    },
    {
      "cell_type": "markdown",
      "source": [
        "###Logistic Regression Model Fitting"
      ],
      "metadata": {
        "id": "EQMaRjrKjPHZ"
      }
    },
    {
      "cell_type": "code",
      "source": [
        "from sklearn.linear_model import LogisticRegression\n",
        "from sklearn import metrics\n",
        "X_train, X_test, y_train, y_test = train_test_split(X, y, test_size=0.3, random_state=0)\n",
        "logreg = LogisticRegression()\n",
        "logreg.fit(X_train, y_train)"
      ],
      "metadata": {
        "colab": {
          "base_uri": "https://localhost:8080/"
        },
        "id": "tasuqxmLio9T",
        "outputId": "cd3ce51e-eff2-4703-b001-5814faac0b35"
      },
      "execution_count": 47,
      "outputs": [
        {
          "output_type": "stream",
          "name": "stderr",
          "text": [
            "/usr/local/lib/python3.7/dist-packages/sklearn/linear_model/_logistic.py:818: ConvergenceWarning: lbfgs failed to converge (status=1):\n",
            "STOP: TOTAL NO. of ITERATIONS REACHED LIMIT.\n",
            "\n",
            "Increase the number of iterations (max_iter) or scale the data as shown in:\n",
            "    https://scikit-learn.org/stable/modules/preprocessing.html\n",
            "Please also refer to the documentation for alternative solver options:\n",
            "    https://scikit-learn.org/stable/modules/linear_model.html#logistic-regression\n",
            "  extra_warning_msg=_LOGISTIC_SOLVER_CONVERGENCE_MSG,\n"
          ]
        },
        {
          "output_type": "execute_result",
          "data": {
            "text/plain": [
              "LogisticRegression()"
            ]
          },
          "metadata": {},
          "execution_count": 47
        }
      ]
    },
    {
      "cell_type": "markdown",
      "source": [
        "###Predicting the test set results and calculating the accuracy"
      ],
      "metadata": {
        "id": "XSzOMQMYkSAX"
      }
    },
    {
      "cell_type": "code",
      "source": [
        "y_pred = logreg.predict(X_test)\n",
        "print('Accuracy of logistic regression classifier on test set: {:.2f}'.format(logreg.score(X_test, y_test)))"
      ],
      "metadata": {
        "colab": {
          "base_uri": "https://localhost:8080/"
        },
        "id": "gAIFz7p-jWqx",
        "outputId": "7fd222cb-2a14-4fbe-80db-25fa957eabb8"
      },
      "execution_count": 48,
      "outputs": [
        {
          "output_type": "stream",
          "name": "stdout",
          "text": [
            "Accuracy of logistic regression classifier on test set: 0.83\n"
          ]
        }
      ]
    },
    {
      "cell_type": "markdown",
      "source": [
        "##Confusion Matrix"
      ],
      "metadata": {
        "id": "QDRmskXNkjbx"
      }
    },
    {
      "cell_type": "code",
      "source": [
        "from sklearn.metrics import confusion_matrix\n",
        "confusion_matrix = confusion_matrix(y_test, y_pred)\n",
        "print(confusion_matrix)"
      ],
      "metadata": {
        "colab": {
          "base_uri": "https://localhost:8080/"
        },
        "id": "oJ-_ojGNkb1B",
        "outputId": "4b775484-d016-490e-eb5f-3a54241f9dc3"
      },
      "execution_count": 49,
      "outputs": [
        {
          "output_type": "stream",
          "name": "stdout",
          "text": [
            "[[6852  814]\n",
            " [1720 5955]]\n"
          ]
        }
      ]
    },
    {
      "cell_type": "markdown",
      "source": [
        "The result is telling us that we have 6852+5955 correct predictions and 2505+1542 incorrect predictions."
      ],
      "metadata": {
        "id": "5GdS8eiukyfz"
      }
    },
    {
      "cell_type": "markdown",
      "source": [
        "###Compute precision, recall, F-measure and support"
      ],
      "metadata": {
        "id": "CeNxdUfIlHfo"
      }
    },
    {
      "cell_type": "markdown",
      "source": [
        "The precision is the ratio tp / (tp + fp) where tp is the number of true positives and fp the number of false positives. The precision is intuitively the ability of the classifier to not label a sample as positive if it is negative.\n",
        "\n",
        "The recall is the ratio tp / (tp + fn) where tp is the number of true positives and fn the number of false negatives. The recall is intuitively the ability of the classifier to find all the positive samples.\n",
        "\n",
        "The F-beta score can be interpreted as a weighted harmonic mean of the precision and recall, where an F-beta score reaches its best value at 1 and worst score at 0.\n",
        "\n",
        "The F-beta score weights the recall more than the precision by a factor of beta. beta = 1.0 means recall and precision are equally important.\n",
        "\n",
        "The support is the number of occurrences of each class in y_test."
      ],
      "metadata": {
        "id": "CE8NZxmBlkHY"
      }
    },
    {
      "cell_type": "code",
      "source": [
        "from sklearn.metrics import classification_report\n",
        "print(classification_report(y_test, y_pred))"
      ],
      "metadata": {
        "colab": {
          "base_uri": "https://localhost:8080/"
        },
        "id": "SU8A2tOqktZn",
        "outputId": "c5703cbf-03e0-44c2-ab06-10dce26236fa"
      },
      "execution_count": 50,
      "outputs": [
        {
          "output_type": "stream",
          "name": "stdout",
          "text": [
            "              precision    recall  f1-score   support\n",
            "\n",
            "           0       0.80      0.89      0.84      7666\n",
            "           1       0.88      0.78      0.82      7675\n",
            "\n",
            "    accuracy                           0.83     15341\n",
            "   macro avg       0.84      0.83      0.83     15341\n",
            "weighted avg       0.84      0.83      0.83     15341\n",
            "\n"
          ]
        }
      ]
    },
    {
      "cell_type": "markdown",
      "source": [
        "Interpretation: Of the entire test set, 74% of the promoted term deposit were the term deposit that the customers liked. Of the entire test set, 74% of the customer’s preferred term deposits that were promoted.\n",
        "\n"
      ],
      "metadata": {
        "id": "ychSzmHPluQZ"
      }
    },
    {
      "cell_type": "code",
      "source": [],
      "metadata": {
        "id": "u4ju6GODlr9z"
      },
      "execution_count": null,
      "outputs": []
    },
    {
      "cell_type": "code",
      "source": [],
      "metadata": {
        "id": "_p3Kc2-7lvdA"
      },
      "execution_count": null,
      "outputs": []
    },
    {
      "cell_type": "markdown",
      "source": [
        "##ROC Curve"
      ],
      "metadata": {
        "id": "GNW15ljPl33J"
      }
    },
    {
      "cell_type": "code",
      "source": [
        "from sklearn.metrics import roc_auc_score\n",
        "from sklearn.metrics import roc_curve\n",
        "logit_roc_auc = roc_auc_score(y_test, logreg.predict(X_test))\n",
        "fpr, tpr, thresholds = roc_curve(y_test, logreg.predict_proba(X_test)[:,1])\n",
        "plt.figure()\n",
        "plt.plot(fpr, tpr, label='Logistic Regression (area = %0.2f)' % logit_roc_auc)\n",
        "plt.plot([0, 1], [0, 1],'r--')\n",
        "plt.xlim([0.0, 1.0])\n",
        "plt.ylim([0.0, 1.05])\n",
        "plt.xlabel('False Positive Rate')\n",
        "plt.ylabel('True Positive Rate')\n",
        "plt.title('Receiver operating characteristic')\n",
        "plt.legend(loc=\"lower right\")\n",
        "plt.savefig('Log_ROC')\n",
        "plt.show()"
      ],
      "metadata": {
        "colab": {
          "base_uri": "https://localhost:8080/",
          "height": 301
        },
        "id": "r8LsZzNRlvXU",
        "outputId": "0c8c16ca-4b5b-49f1-eda6-3b0cab6da018"
      },
      "execution_count": 52,
      "outputs": [
        {
          "output_type": "display_data",
          "data": {
            "text/plain": [
              "<Figure size 432x288 with 1 Axes>"
            ],
            "image/png": "[encoded data removed]"
          },
          "metadata": {}
        }
      ]
    },
    {
      "cell_type": "markdown",
      "source": [
        "The receiver operating characteristic (ROC) curve is another common tool used with binary classifiers. The dotted line represents the ROC curve of a purely random classifier; a good classifier stays as far away from that line as possible (toward the top-left corner)."
      ],
      "metadata": {
        "id": "RPw-MygtmK-O"
      }
    },
    {
      "cell_type": "code",
      "source": [],
      "metadata": {
        "id": "cGJ1vtEil8dc"
      },
      "execution_count": null,
      "outputs": []
    }
  ]
}